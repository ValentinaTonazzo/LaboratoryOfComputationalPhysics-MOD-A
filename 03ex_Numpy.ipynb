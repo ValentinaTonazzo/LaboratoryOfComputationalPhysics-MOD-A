{
 "cells": [
  {
   "cell_type": "markdown",
   "metadata": {},
   "source": [
    "### Numpy basics"
   ]
  },
  {
   "cell_type": "markdown",
   "metadata": {},
   "source": [
    "1\\. Find the row, column and overall means for the following matrix:\n",
    "\n",
    "```python\n",
    "m = np.arange(12).reshape((3,4))\n",
    "```"
   ]
  },
  {
   "cell_type": "markdown",
   "metadata": {},
   "source": [
    "2\\. Find the outer product of the following two vecotrs\n",
    "\n",
    "```python\n",
    "u = np.array([1,3,5,7])\n",
    "v = np.array([2,4,6,8])\n",
    "```\n",
    "\n",
    "Do this in the following ways:\n",
    "\n",
    "   * Using the function outer in numpy\n",
    "   * Using a nested for loop or list comprehension\n",
    "   * Using numpy broadcasting operatoins\n"
   ]
  },
  {
   "cell_type": "markdown",
   "metadata": {},
   "source": [
    "3\\. Create a 10 by 6 matrix of random uniform numbers. Set all rows with any entry less than 0.1 to be zero\n",
    "\n",
    "Hint: Use the following numpy functions - np.random.random, np.any as well as Boolean indexing and the axis argument."
   ]
  },
  {
   "cell_type": "markdown",
   "metadata": {},
   "source": [
    "4\\. Use np.linspace to create an array of 100 numbers between 0 and 2π (includsive).\n",
    "\n",
    "  * Extract every 10th element using slice notation\n",
    "  * Reverse the array using slice notation\n",
    "  * Extract elements where the absolute difference between the sine and cosine functions evaluated at that element is less than 0.1\n",
    "  * Make a plot showing the sin and cos functions and indicate where they are close"
   ]
  },
  {
   "cell_type": "markdown",
   "metadata": {},
   "source": [
    "5\\. Create a matrix that shows the 10 by 10 multiplication table.\n",
    "\n",
    " * Find the trace of the matrix\n",
    " * Extract the anto-diagonal (this should be ```array([10, 18, 24, 28, 30, 30, 28, 24, 18, 10])```)\n",
    " * Extract the diagnoal offset by 1 upwards (this should be ```array([ 2,  6, 12, 20, 30, 42, 56, 72, 90])```)"
   ]
  },
  {
   "cell_type": "markdown",
   "metadata": {},
   "source": [
    "6\\. Use broadcasting to create a grid of distances\n",
    "\n",
    "Route 66 crosses the following cities in the US: Chicago, Springfield, Saint-Louis, Tulsa, Oklahoma City, Amarillo, Santa Fe, Albuquerque, Flagstaff, Los Angeles\n",
    "The corresponding positions in miles are: 0, 198, 303, 736, 871, 1175, 1475, 1544, 1913, 2448\n",
    "\n",
    "  * Construct a 2D grid of distances among each city along Route 66\n",
    "  * Convert that in km (those savages...)"
   ]
  },
  {
   "cell_type": "markdown",
   "metadata": {},
   "source": [
    "7\\. Prime numbers sieve: compute the prime numbers in the 0-N (N=99 to start with) range with a sieve (mask).\n",
    "  * Constract a shape (100,) boolean array, the mask\n",
    "  * Identify the multiples of each number starting from 2 and set accordingly the corresponding mask element\n",
    "  * Apply the mask to obtain an array of ordered prime numbers\n",
    "  * Check the performances (timeit); how does it scale with N?-->a prima vista sembrerebbe lineare(?)\n",
    "  * Implement the optimization suggested in the [sieve of Eratosthenes](https://en.wikipedia.org/wiki/Sieve_of_Eratosthenes)"
   ]
  },
  {
   "cell_type": "markdown",
   "metadata": {},
   "source": [
    "**N.B. the following exercises are meant to be solved only if you are familiar with the numpy random library. If not you can skip them (postponed for one of the next exercise sessions)**\n"
   ]
  },
  {
   "cell_type": "markdown",
   "metadata": {},
   "source": [
    "8\\. Diffusion using random walk\n",
    "\n",
    "Consider a simple random walk process: at each step in time, a walker jumps right or left (+1 or -1) with equal probability. The goal is to find the typical distance from the origin of a random walker after a given amount of time. \n",
    "To do that, let's simulate many walkers and create a 2D array with each walker as a raw and the actual time evolution as columns\n",
    "\n",
    "  * Take 1000 walkers and let them walk for 200 steps\n",
    "  * Use randint to create a 2D array of size walkers x steps with values -1 or 1\n",
    "  * Build the actual walking distances for each walker (i.e. another 2D array \"summing on each raw\")\n",
    "  * Take the square of that 2D array (elementwise)\n",
    "  * Compute the mean of the squared distances at each step (i.e. the mean along the columns)\n",
    "  * Plot the average distances (sqrt(distance\\*\\*2)) as a function of time (step)\n",
    "  \n",
    "Did you get what you expected?"
   ]
  },
  {
   "cell_type": "markdown",
   "metadata": {},
   "source": [
    "9\\. Analyze a data file \n",
    "  * Download the population of hares, lynxes and carrots at the beginning of the last century.\n",
    "    ```python\n",
    "    ! wget https://www.dropbox.com/s/3vigxoqayo389uc/populations.txt\n",
    "    ```\n",
    "\n",
    "  * Check the content by looking within the file\n",
    "  * Load the data (use an appropriate numpy method) into a 2D array\n",
    "  * Create arrays out of the columns, the arrays being (in order): *year*, *hares*, *lynxes*, *carrots* \n",
    "  * Plot the 3 populations over the years\n",
    "  * Compute the main statistical properties of the dataset (mean, std, correlations, etc.)\n",
    "  * Which species has the highest population each year?\n",
    "\n",
    "Do you feel there is some evident correlation here? [Studies](https://www.enr.gov.nt.ca/en/services/lynx/lynx-snowshoe-hare-cycle) tend to believe so."
   ]
  },
  {
   "cell_type": "code",
   "execution_count": 1,
   "metadata": {},
   "outputs": [
    {
     "name": "stdout",
     "output_type": "stream",
     "text": [
      "number of rows: 3\n",
      "number of columns: 4\n",
      "[[ 0  1  2  3]\n",
      " [ 4  5  6  7]\n",
      " [ 8  9 10 11]]\n",
      "mean of 1 row: 1.5\n",
      "mean of 2 row: 5.5\n",
      "mean of 3 row: 9.5\n",
      "mean of 1 column 4.0\n",
      "mean of 2 column 5.0\n",
      "mean of 3 column 6.0\n",
      "mean of 4 column 7.0\n"
     ]
    }
   ],
   "source": [
    "#ex 1. \n",
    "import numpy as np\n",
    "\n",
    "m = np.arange(12).reshape((3,4))\n",
    "num_rows,num_col = np.shape(m)\n",
    "print(\"number of rows:\", num_rows)\n",
    "print(\"number of columns:\", num_col)\n",
    "\n",
    "\n",
    "print(m)\n",
    "    \n",
    "el_rows=[]\n",
    "    \n",
    "for i in range(num_col-1):\n",
    "    el_rows.append(m[i])\n",
    "    print(\"mean of\", i+1,\"row:\", np.sum(el_rows)/num_col)\n",
    "    el_rows = []\n",
    "\n",
    "\n",
    "for i in range (num_col):\n",
    "    print(\"mean of\", i+1, \"column\", np.sum(m[:,i])/num_rows)\n",
    "    \n",
    "\n"
   ]
  },
  {
   "cell_type": "code",
   "execution_count": 2,
   "metadata": {},
   "outputs": [
    {
     "name": "stdout",
     "output_type": "stream",
     "text": [
      "[[ 2  4  6  8]\n",
      " [ 6 12 18 24]\n",
      " [10 20 30 40]\n",
      " [14 28 42 56]] \n",
      "\n",
      "[[2, 4, 6, 8], [6, 12, 18, 24], [10, 20, 30, 40], [14, 28, 42, 56]] \n",
      "\n",
      "[[ 2  6 10 14]\n",
      " [ 4 12 20 28]\n",
      " [ 6 18 30 42]\n",
      " [ 8 24 40 56]]\n"
     ]
    }
   ],
   "source": [
    "#es 2.\n",
    "u = np.array([1,3,5,7])\n",
    "v = np.array([2,4,6,8])\n",
    "\n",
    "prod = np.outer(u,v)\n",
    "print(prod,\"\\n\")\n",
    "\n",
    "\n",
    "prod2 = []\n",
    "for i in range(len(u)):\n",
    "    rowi=[]\n",
    "    for j in range (len(v)):\n",
    "        rowi.append(u[i]*v[j])\n",
    "    prod2.append(rowi)       \n",
    "print(prod2,\"\\n\")\n",
    "\n",
    "\n",
    "v = v.reshape((-1, 1))\n",
    "print(v*u)\n"
   ]
  },
  {
   "cell_type": "code",
   "execution_count": 3,
   "metadata": {},
   "outputs": [
    {
     "name": "stdout",
     "output_type": "stream",
     "text": [
      "[[0.94063868 0.14420846 0.21012702 0.99949044 0.06905363 0.77152576]\n",
      " [0.34326057 0.26334751 0.04771759 0.88951703 0.78837922 0.22904948]\n",
      " [0.39444958 0.491539   0.18996053 0.62492281 0.97279568 0.5593393 ]\n",
      " [0.41537494 0.77095489 0.04097831 0.00672617 0.08797955 0.60252396]\n",
      " [0.70958778 0.09145621 0.03998984 0.04503068 0.40979043 0.3313844 ]\n",
      " [0.86631876 0.81107171 0.27140464 0.30077708 0.89973232 0.1811947 ]\n",
      " [0.76006458 0.4112057  0.38501378 0.12784254 0.12256351 0.43615904]\n",
      " [0.62687964 0.90646368 0.99510017 0.85262352 0.13810617 0.10598683]\n",
      " [0.52484403 0.8019246  0.22446484 0.06647774 0.5613976  0.46990219]\n",
      " [0.50458576 0.85971622 0.46510607 0.30892733 0.3695551  0.0408029 ]] \n",
      "\n",
      "[[0.         0.         0.         0.         0.         0.        ]\n",
      " [0.         0.         0.         0.         0.         0.        ]\n",
      " [0.39444958 0.491539   0.18996053 0.62492281 0.97279568 0.5593393 ]\n",
      " [0.         0.         0.         0.         0.         0.        ]\n",
      " [0.         0.         0.         0.         0.         0.        ]\n",
      " [0.86631876 0.81107171 0.27140464 0.30077708 0.89973232 0.1811947 ]\n",
      " [0.76006458 0.4112057  0.38501378 0.12784254 0.12256351 0.43615904]\n",
      " [0.62687964 0.90646368 0.99510017 0.85262352 0.13810617 0.10598683]\n",
      " [0.         0.         0.         0.         0.         0.        ]\n",
      " [0.         0.         0.         0.         0.         0.        ]]\n"
     ]
    }
   ],
   "source": [
    "#es 3.\n",
    "\n",
    "A = np.random.random_sample((10,6))\n",
    "x,y=np.shape(A)\n",
    "\n",
    "print(A,\"\\n\")\n",
    "\n",
    "for i in range(x):        \n",
    "    for j in range(y):\n",
    "        if A[i][j]<=0.1:\n",
    "            A[i]=0\n",
    "            \n",
    "print(A)\n"
   ]
  },
  {
   "cell_type": "code",
   "execution_count": 4,
   "metadata": {},
   "outputs": [
    {
     "name": "stdout",
     "output_type": "stream",
     "text": [
      "[0.         0.63466518 1.26933037 1.90399555 2.53866073 3.17332591\n",
      " 3.8079911  4.44265628 5.07732146 5.71198664] \n",
      "\n",
      "[6.28318531 6.21971879 6.15625227 6.09278575 6.02931923 5.96585272\n",
      " 5.9023862  5.83891968 5.77545316 5.71198664 5.64852012 5.58505361\n",
      " 5.52158709 5.45812057 5.39465405 5.33118753 5.26772102 5.2042545\n",
      " 5.14078798 5.07732146 5.01385494 4.95038842 4.88692191 4.82345539\n",
      " 4.75998887 4.69652235 4.63305583 4.56958931 4.5061228  4.44265628\n",
      " 4.37918976 4.31572324 4.25225672 4.1887902  4.12532369 4.06185717\n",
      " 3.99839065 3.93492413 3.87145761 3.8079911  3.74452458 3.68105806\n",
      " 3.61759154 3.55412502 3.4906585  3.42719199 3.36372547 3.30025895\n",
      " 3.23679243 3.17332591 3.10985939 3.04639288 2.98292636 2.91945984\n",
      " 2.85599332 2.7925268  2.72906028 2.66559377 2.60212725 2.53866073\n",
      " 2.47519421 2.41172769 2.34826118 2.28479466 2.22132814 2.15786162\n",
      " 2.0943951  2.03092858 1.96746207 1.90399555 1.84052903 1.77706251\n",
      " 1.71359599 1.65012947 1.58666296 1.52319644 1.45972992 1.3962634\n",
      " 1.33279688 1.26933037 1.20586385 1.14239733 1.07893081 1.01546429\n",
      " 0.95199777 0.88853126 0.82506474 0.76159822 0.6981317  0.63466518\n",
      " 0.57119866 0.50773215 0.44426563 0.38079911 0.31733259 0.25386607\n",
      " 0.19039955 0.12693304 0.06346652 0.        ] \n",
      "\n",
      "[0.76159822 0.82506474 3.87145761 3.93492413]\n"
     ]
    },
    {
     "data": {
      "text/plain": [
       "[<matplotlib.lines.Line2D at 0x7fa32c65a880>]"
      ]
     },
     "execution_count": 4,
     "metadata": {},
     "output_type": "execute_result"
    },
    {
     "data": {
      "image/png": "[encoded data removed]",
      "text/plain": [
       "<Figure size 432x288 with 1 Axes>"
      ]
     },
     "metadata": {
      "needs_background": "light"
     },
     "output_type": "display_data"
    }
   ],
   "source": [
    "#es 4.\n",
    "\n",
    "import math\n",
    "import matplotlib.pyplot as plt\n",
    "\n",
    "a = np.linspace(0, 2*math.pi, num=100) #create an array of 100 numbers between 0 and 2π\n",
    "\n",
    "#print(a,\"\\n\")\n",
    "\n",
    "print(a[::10],\"\\n\") #Extract every 10th element using slice notation\n",
    "\n",
    "print(a[::-1],\"\\n\") #Reverse the array using slice notation\n",
    "\n",
    "b = a[abs(np.sin(a)-np.cos(a))<=0.1]\n",
    "print(b) \n",
    "\n",
    "plt.plot(a,np.sin(a))\n",
    "plt.plot(a,np.cos(a))\n",
    "plt.plot(b,np.sin(b),'or')        \n",
    "\n",
    "\n",
    "\n",
    "\n"
   ]
  },
  {
   "cell_type": "code",
   "execution_count": 5,
   "metadata": {},
   "outputs": [
    {
     "name": "stdout",
     "output_type": "stream",
     "text": [
      "the matrix is:\n",
      " [[  1   2   3   4   5   6   7   8   9  10]\n",
      " [  2   4   6   8  10  12  14  16  18  20]\n",
      " [  3   6   9  12  15  18  21  24  27  30]\n",
      " [  4   8  12  16  20  24  28  32  36  40]\n",
      " [  5  10  15  20  25  30  35  40  45  50]\n",
      " [  6  12  18  24  30  36  42  48  54  60]\n",
      " [  7  14  21  28  35  42  49  56  63  70]\n",
      " [  8  16  24  32  40  48  56  64  72  80]\n",
      " [  9  18  27  36  45  54  63  72  81  90]\n",
      " [ 10  20  30  40  50  60  70  80  90 100]]\n",
      "\n",
      " the trace is: 385\n",
      "\n",
      " the anti-diagonal is: [10 18 24 28 30 30 28 24 18 10]\n",
      "\n",
      " the diagnoal offset by 1 upwards is: [ 2  6 12 20 30 42 56 72 90]\n"
     ]
    }
   ],
   "source": [
    "#ex 5. \n",
    "\n",
    "a=np.arange(1,11)\n",
    "\n",
    "matrix=a.reshape((-1,1))*a\n",
    "\n",
    "print(\"the matrix is:\\n\",matrix) \n",
    "\n",
    "print(\"\\n the trace is:\",np.sum(matrix[np.arange(10),np.arange(10)]))\n",
    "\n",
    "b=np.arange(10)\n",
    "b=b[::-1]\n",
    "print(\"\\n the anti-diagonal is:\",matrix[b,np.arange(10)])\n",
    "\n",
    "print(\"\\n the diagnoal offset by 1 upwards is:\",matrix[np.arange(9),np.arange(1,10)])\n"
   ]
  },
  {
   "cell_type": "code",
   "execution_count": 6,
   "metadata": {},
   "outputs": [
    {
     "name": "stdout",
     "output_type": "stream",
     "text": [
      "Grid of distances:\n",
      " [[   0  198  303  736  871 1175 1475 1544 1913 2448]\n",
      " [ 198    0  105  538  673  977 1277 1346 1715 2250]\n",
      " [ 303  105    0  433  568  872 1172 1241 1610 2145]\n",
      " [ 736  538  433    0  135  439  739  808 1177 1712]\n",
      " [ 871  673  568  135    0  304  604  673 1042 1577]\n",
      " [1175  977  872  439  304    0  300  369  738 1273]\n",
      " [1475 1277 1172  739  604  300    0   69  438  973]\n",
      " [1544 1346 1241  808  673  369   69    0  369  904]\n",
      " [1913 1715 1610 1177 1042  738  438  369    0  535]\n",
      " [2448 2250 2145 1712 1577 1273  973  904  535    0]]\n",
      "\n",
      " in Km:\n",
      " [[   0  318  487 1184 1401 1890 2373 2484 3078 3939]\n",
      " [ 318    0  168  865 1083 1572 2055 2166 2760 3621]\n",
      " [ 487  168    0  696  914 1403 1886 1997 2591 3452]\n",
      " [1184  865  696    0  217  706 1189 1300 1894 2755]\n",
      " [1401 1083  914  217    0  489  972 1083 1676 2537]\n",
      " [1890 1572 1403  706  489    0  482  593 1187 2048]\n",
      " [2373 2055 1886 1189  972  482    0  111  704 1565]\n",
      " [2484 2166 1997 1300 1083  593  111    0  593 1454]\n",
      " [3078 2760 2591 1894 1676 1187  704  593    0  860]\n",
      " [3939 3621 3452 2755 2537 2048 1565 1454  860    0]]\n"
     ]
    }
   ],
   "source": [
    "#es 6.\n",
    "\n",
    "p = np.array([ 0, 198, 303, 736, 871, 1175, 1475, 1544, 1913, 2448 ])\n",
    "\n",
    "matrix =abs( p.reshape((-1,1))-p )\n",
    "\n",
    "print(\"Grid of distances:\\n\",matrix)\n",
    "\n",
    "print(\"\\n in Km:\\n\",(matrix*1.60934).astype(int))\n"
   ]
  },
  {
   "cell_type": "code",
   "execution_count": 7,
   "metadata": {},
   "outputs": [
    {
     "name": "stdout",
     "output_type": "stream",
     "text": [
      "0.04960043000028236\n"
     ]
    }
   ],
   "source": [
    "\n",
    "import timeit\n",
    " \n",
    "mysetup = \"import numpy as np\"\n",
    "\n",
    "mycode = '''\n",
    "N=600\n",
    "a = np.arange(1,N+1)\n",
    "\n",
    "\n",
    "alist=[]\n",
    "\n",
    "for i in range(1,N):\n",
    "    \n",
    "    mask = (a%a[i]==0) \n",
    "    \n",
    "    filtered_a = a[mask]\n",
    "    alist.append(np.delete(filtered_a,0))\n",
    "     \n",
    "    \n",
    "    \n",
    "j=0\n",
    "while a[j]!=a[-1]:\n",
    "    \n",
    "    indices = np.argwhere(np.isin(a,alist[j]))\n",
    "    a = np.delete(a,indices)\n",
    "    j+=1\n",
    "'''\n",
    " \n",
    "# timeit statement\n",
    "print (timeit.timeit(setup = mysetup,\n",
    "                     stmt = mycode,\n",
    "                     number = 1))\n",
    "\n",
    "#manca l'implementazione di eratostene "
   ]
  },
  {
   "cell_type": "code",
   "execution_count": null,
   "metadata": {},
   "outputs": [],
   "source": []
  },
  {
   "cell_type": "code",
   "execution_count": null,
   "metadata": {},
   "outputs": [],
   "source": []
  },
  {
   "cell_type": "code",
   "execution_count": null,
   "metadata": {},
   "outputs": [],
   "source": []
  }
 ],
 "metadata": {
  "kernelspec": {
   "display_name": "Python 3",
   "language": "python",
   "name": "python3"
  },
  "language_info": {
   "codemirror_mode": {
    "name": "ipython",
    "version": 3
   },
   "file_extension": ".py",
   "mimetype": "text/x-python",
   "name": "python",
   "nbconvert_exporter": "python",
   "pygments_lexer": "ipython3",
   "version": "3.8.8"
  }
 },
 "nbformat": 4,
 "nbformat_minor": 2
}
