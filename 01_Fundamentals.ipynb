{
 "cells": [
  {
   "cell_type": "markdown",
   "metadata": {},
   "source": [
    "# Modules/packages/libraries\n",
    "\n",
    "Definitions:\n",
    "\n",
    "  * Modules:\n",
    "  A module is a file which contains python functions, global variables etc. It is nothing but .py file which has python executable code / statement.\n",
    "\n",
    "  * Packages:\n",
    "  A package is a namespace which contains multiple package/modules. It is a directory which contains a special file `__init__.py`\n",
    "  \n",
    "  * Libraries:\n",
    "  A library is a collection of various packages. There is no difference between package and python library conceptually.\n",
    "  \n",
    "Modules/packages/libraries can be easily \"imported\" and made functional in your python code. A set of libriaries comes with every python installation. Others can be installed locally and then imported. Your own code sitting somewhere else in your local computer can be imported too.\n",
    "\n",
    "Further details (very important!) on packages and how to create them can be found online. We may find the need of creating our own during the course."
   ]
  },
  {
   "cell_type": "code",
   "execution_count": 3,
   "metadata": {},
   "outputs": [
    {
     "name": "stdout",
     "output_type": "stream",
     "text": [
      "3.141592653589793\n",
      "3.141592653589793\n",
      "3.141592653589793\n",
      "2.6457513110645907\n"
     ]
    }
   ],
   "source": [
    "###### all the \"stuff\" that is in the math library can be used\n",
    "import math\n",
    "print(math.pi)\n",
    "\n",
    "# you can give math a label for convenience\n",
    "import math as m\n",
    "print (m.pi)\n",
    "\n",
    "# alternatively you can import only a given \"thing\" from the library\n",
    "from math import pi    #you can add several libraries at once, just list them separated by a \", \"\n",
    "print (pi)\n",
    "\n",
    "# or just get everything (very dangerous!!!)\n",
    "from math import *\n",
    "print (sqrt(7))"
   ]
  },
  {
   "cell_type": "markdown",
   "metadata": {},
   "source": [
    "To know which modules are there for you to use just type:"
   ]
  },
  {
   "cell_type": "code",
   "execution_count": 1,
   "metadata": {},
   "outputs": [
    {
     "name": "stdout",
     "output_type": "stream",
     "text": [
      "\n",
      "Please wait a moment while I gather a list of all available modules...\n",
      "\n"
     ]
    },
    {
     "name": "stderr",
     "output_type": "stream",
     "text": [
      "/home/valentina/anaconda3/lib/python3.8/site-packages/IPython/kernel/__init__.py:12: ShimWarning: The `IPython.kernel` package has been deprecated since IPython 4.0.You should import from ipykernel or jupyter_client instead.\n",
      "  warn(\"The `IPython.kernel` package has been deprecated since IPython 4.0.\"\n",
      "WARNING: AstropyDeprecationWarning: The private astropy._erfa module has been made into its own package, pyerfa, which is a dependency of astropy and can be imported directly using \"import erfa\" [astropy._erfa]\n",
      "/home/valentina/anaconda3/lib/python3.8/pkgutil.py:92: MatplotlibDeprecationWarning: \n",
      "The matplotlib.compat module was deprecated in Matplotlib 3.3 and will be removed two minor releases later.\n",
      "  __import__(info.name)\n",
      "/home/valentina/anaconda3/lib/python3.8/site-packages/nltk/twitter/__init__.py:21: UserWarning: The twython library has not been installed. Some functionality from the twitter package will not be available.\n",
      "  warnings.warn(\n",
      "/home/valentina/anaconda3/lib/python3.8/site-packages/skimage/viewer/utils/__init__.py:1: UserWarning: Recommended matplotlib backend is `Agg` for full skimage.viewer functionality.\n",
      "  from .core import *\n"
     ]
    },
    {
     "name": "stdout",
     "output_type": "stream",
     "text": [
      "Update LANGUAGE_CODES (inside config/base.py) if a new translation has been added to Spyder\n"
     ]
    },
    {
     "name": "stderr",
     "output_type": "stream",
     "text": [
      "/home/valentina/anaconda3/lib/python3.8/site-packages/qtawesome/iconic_font.py:313: UserWarning: You need to have a running QApplication to use QtAwesome!\n",
      "  warnings.warn(\"You need to have a running \"\n",
      "/home/valentina/anaconda3/lib/python3.8/pkgutil.py:107: VisibleDeprecationWarning: zmq.eventloop.minitornado is deprecated in pyzmq 14.0 and will be removed.\n",
      "    Install tornado itself to use zmq with the tornado IOLoop.\n",
      "    \n",
      "  yield from walk_packages(path, info.name+'.', onerror)\n"
     ]
    },
    {
     "name": "stdout",
     "output_type": "stream",
     "text": [
      "Cython              brain_gi            isympy              readline\n",
      "IPython             brain_hashlib       itertools           regex\n",
      "OpenSSL             brain_http          itsdangerous        repo_cli\n",
      "PIL                 brain_hypothesis    jdcal               reprlib\n",
      "PyQt5               brain_io            jedi                requests\n",
      "__future__          brain_mechanize     jeepney             resource\n",
      "_abc                brain_multiprocessing jinja2              rlcompleter\n",
      "_ast                brain_namedtuple_enum joblib              rmagic\n",
      "_asyncio            brain_nose          json                rope\n",
      "_bisect             brain_numpy_core_fromnumeric json5               rtree\n",
      "_black_version      brain_numpy_core_function_base jsonschema          ruamel_yaml\n",
      "_blake2             brain_numpy_core_multiarray jupyter             runpy\n",
      "_bootlocale         brain_numpy_core_numeric jupyter_client      sched\n",
      "_bz2                brain_numpy_core_numerictypes jupyter_console     scipy\n",
      "_cffi_backend       brain_numpy_core_umath jupyter_core        scripts\n",
      "_codecs             brain_numpy_ndarray jupyter_packaging   seaborn\n",
      "_codecs_cn          brain_numpy_random_mtrand jupyter_server      secrets\n",
      "_codecs_hk          brain_numpy_utils   jupyterlab          secretstorage\n",
      "_codecs_iso2022     brain_pkg_resources jupyterlab_pygments select\n",
      "_codecs_jp          brain_pytest        jupyterlab_server   selectors\n",
      "_codecs_kr          brain_qt            jupyterlab_widgets  send2trash\n",
      "_codecs_tw          brain_random        keyring             setuptools\n",
      "_collections        brain_re            keyword             shelve\n",
      "_collections_abc    brain_responses     kiwisolver          shlex\n",
      "_compat_pickle      brain_scipy_signal  lazy_object_proxy   shutil\n",
      "_compression        brain_six           lib2to3             signal\n",
      "_contextvars        brain_sqlalchemy    libarchive          simplegeneric\n",
      "_crypt              brain_ssl           libfuturize         singledispatch\n",
      "_csv                brain_subprocess    libpasteurize       sip\n",
      "_ctypes             brain_threading     lief                sipconfig\n",
      "_ctypes_test        brain_type          linecache           sipdistutils\n",
      "_curses             brain_typing        llvmlite            site\n",
      "_curses_panel       brain_uuid          locale              six\n",
      "_datetime           brotli              locket              skimage\n",
      "_decimal            bs4                 logging             sklearn\n",
      "_distutils_hack     builtins            lxml                smtpd\n",
      "_dummy_thread       bz2                 lzma                smtplib\n",
      "_elementtree        cProfile            mailbox             sndhdr\n",
      "_functools          calendar            mailcap             sniffio\n",
      "_hashlib            certifi             markupsafe          snowballstemmer\n",
      "_heapq              cffi                marshal             socket\n",
      "_imp                cgi                 math                socketserver\n",
      "_io                 cgitb               matplotlib          socks\n",
      "_json               chardet             mccabe              sockshandler\n",
      "_locale             chunk               mimetypes           sortedcollections\n",
      "_lsprof             click               mistune             sortedcontainers\n",
      "_lzma               cloudpickle         mkl                 soupsieve\n",
      "_markupbase         clyent              mkl_fft             sphinx\n",
      "_md5                cmath               mkl_random          sphinxcontrib\n",
      "_multibytecodec     cmd                 mmap                spwd\n",
      "_multiprocessing    code                mock                spyder\n",
      "_opcode             codecs              modulefinder        spyder_kernels\n",
      "_operator           codeop              more_itertools      sqlalchemy\n",
      "_osx_support        collections         mpmath              sqlite3\n",
      "_pickle             colorama            msgpack             sre_compile\n",
      "_posixshmem         colorsys            multipledispatch    sre_constants\n",
      "_posixsubprocess    compileall          multiprocessing     sre_parse\n",
      "_py_abc             concurrent          mypy_extensions     ssl\n",
      "_pydecimal          conda               navigator_updater   stat\n",
      "_pyio               conda_build         nbclassic           statistics\n",
      "_pyrsistent_version conda_content_trust nbclient            statsmodels\n",
      "_pytest             conda_env           nbconvert           storemagic\n",
      "_queue              conda_package_handling nbformat            string\n",
      "_random             conda_token         nest_asyncio        stringprep\n",
      "_sha1               conda_verify        netrc               struct\n",
      "_sha256             configparser        networkx            subprocess\n",
      "_sha3               contextlib          nis                 sunau\n",
      "_sha512             contextlib2         nltk                symbol\n",
      "_signal             contextvars         nntplib             sympy\n",
      "_sitebuiltins       copy                nose                sympyprinting\n",
      "_socket             copyreg             notebook            symtable\n",
      "_sqlite3            crypt               ntpath              sys\n",
      "_sre                cryptography        nturl2path          sysconfig\n",
      "_ssl                csv                 numba               syslog\n",
      "_stat               ctypes              numbers             tables\n",
      "_statistics         curl                numexpr             tabnanny\n",
      "_string             curses              numpy               tarfile\n",
      "_strptime           cycler              numpydoc            tblib\n",
      "_struct             cython              olefile             telnetlib\n",
      "_symtable           cythonmagic         opcode              tempfile\n",
      "_sysconfigdata__linux_x86_64-linux-gnu cytoolz             openpyxl            terminado\n",
      "_sysconfigdata_aarch64_conda_cos7_linux_gnu dask                operator            termios\n",
      "_sysconfigdata_aarch64_conda_linux_gnu dataclasses         optparse            test\n",
      "_sysconfigdata_i686_conda_cos6_linux_gnu datetime            os                  test_data\n",
      "_sysconfigdata_powerpc64le_conda_cos7_linux_gnu dateutil            ossaudiodev         test_pycosat\n",
      "_sysconfigdata_s390x_conda_cos7_linux_gnu dbm                 packaging           testpath\n",
      "_sysconfigdata_s390x_conda_linux_gnu decimal             pandas              tests\n",
      "_sysconfigdata_x86_64_apple_darwin13_4_0 decorator           pandocfilters       textdistance\n",
      "_sysconfigdata_x86_64_conda_cos6_linux_gnu defusedxml          parser              textwrap\n",
      "_testbuffer         diff_match_patch    parso               this\n",
      "_testcapi           difflib             partd               threading\n",
      "_testimportmultiple dis                 past                threadpoolctl\n",
      "_testinternalcapi   distributed         path                three_merge\n",
      "_testmultiphase     distutils           pathlib             tifffile\n",
      "_thread             doctest             pathlib2            time\n",
      "_threading_local    docutils            pathspec            timeit\n",
      "_tkinter            dummy_threading     patsy               tkinter\n",
      "_tracemalloc        email               pdb                 tlz\n",
      "_warnings           encodings           pep8                token\n",
      "_weakref            ensurepip           pexpect             tokenize\n",
      "_weakrefset         entrypoints         pickle              toml\n",
      "_xxsubinterpreters  enum                pickleshare         toolz\n",
      "_xxtestfuzz         erfa                pickletools         tornado\n",
      "_yaml               errno               pip                 tqdm\n",
      "abc                 et_xmlfile          pipes               trace\n",
      "aifc                fastcache           pkg_resources       traceback\n",
      "alabaster           faulthandler        pkginfo             tracemalloc\n",
      "anaconda_navigator  fcntl               pkgutil             traitlets\n",
      "anaconda_project    filecmp             platform            tty\n",
      "antigravity         fileinput           plistlib            turtle\n",
      "anyio               filelock            pluggy              turtledemo\n",
      "appdirs             flake8              ply                 typed_ast\n",
      "argh                flask               poplib              types\n",
      "argon2              fnmatch             posix               typing\n",
      "argparse            formatter           posixpath           typing_extensions\n",
      "array               fractions           pprint              ujson\n",
      "asn1crypto          fsspec              profile             unicodecsv\n",
      "ast                 ftplib              prometheus_client   unicodedata\n",
      "astroid             functools           prompt_toolkit      unittest\n",
      "astropy             future              pstats              urllib\n",
      "async_generator     gc                  psutil              urllib3\n",
      "asynchat            genericpath         pty                 uu\n",
      "asyncio             getopt              ptyprocess          uuid\n",
      "asyncore            getpass             pvectorc            venv\n",
      "atexit              gettext             pwd                 warnings\n",
      "atomicwrites        gevent              py                  watchdog\n",
      "attr                glob                py_compile          wave\n",
      "audioop             glob2               pyclbr              wcwidth\n",
      "autopep8            gmpy2               pycodestyle         weakref\n",
      "autoreload          greenlet            pycosat             webbrowser\n",
      "babel               grp                 pycparser           webencodings\n",
      "backcall            gzip                pycurl              werkzeug\n",
      "backports           h5py                pydoc               wheel\n",
      "base64              hashlib             pydoc_data          widgetsnbextension\n",
      "bdb                 heapdict            pydocstyle          wrapt\n",
      "binascii            heapq               pyexpat             wsgiref\n",
      "binhex              hmac                pyflakes            wurlitzer\n",
      "binstar_client      html                pygments            xdg\n",
      "bisect              html5lib            pylab               xdrlib\n",
      "bitarray            http                pylint              xlrd\n",
      "bkcharts            idlelib             pyls                xlsxwriter\n",
      "black               idna                pyls_black          xlwt\n",
      "blackd              imageio             pyls_jsonrpc        xml\n",
      "bleach              imagesize           pyls_spyder         xmlrpc\n",
      "blib2to3            imaplib             pyodbc              xmltodict\n",
      "bokeh               imghdr              pyparsing           xxlimited\n",
      "boto                imp                 pyrsistent          xxsubtype\n",
      "bottleneck          importlib           pytest              yaml\n",
      "brain_argparse      importlib_metadata  pytz                yapf\n",
      "brain_attrs         iniconfig           pywt                yapftests\n",
      "brain_boto3         inspect             pyximport           zict\n",
      "brain_builtin_inference intervaltree        qdarkstyle          zipapp\n",
      "brain_collections   io                  qtawesome           zipfile\n",
      "brain_crypt         ipaddress           qtconsole           zipimport\n",
      "brain_curses        ipykernel           qtpy                zipp\n",
      "brain_dataclasses   ipykernel_launcher  queue               zlib\n",
      "brain_dateutil      ipython_genutils    quopri              zmq\n",
      "brain_fstrings      ipywidgets          random              zope\n",
      "brain_functools     isort               re                  \n",
      "\n",
      "Enter any module name to get more help.  Or, type \"modules spam\" to search\n",
      "for modules whose name or summary contain the string \"spam\".\n",
      "\n",
      "None\n"
     ]
    }
   ],
   "source": [
    "print (help('modules') )\n"
   ]
  },
  {
   "cell_type": "markdown",
   "metadata": {},
   "source": [
    "`pip` is a special package. It is used from the command line to install properly (e.g. matching the version of the local packages) new packages. It can also be used from within python to check i.e. the set installed packages and their versions. N.B.: only the installed packages on top of the default ones will be listed "
   ]
  },
  {
   "cell_type": "code",
   "execution_count": 2,
   "metadata": {},
   "outputs": [
    {
     "data": {
      "text/plain": [
       "['alabaster==0.7.12',\n",
       " 'anaconda-client==1.7.2',\n",
       " 'anaconda-navigator==2.0.3',\n",
       " 'anaconda-project==0.9.1',\n",
       " 'anyio==2.2.0',\n",
       " 'appdirs==1.4.4',\n",
       " 'argh==0.26.2',\n",
       " 'argon2-cffi==20.1.0',\n",
       " 'asn1crypto==1.4.0',\n",
       " 'astroid==2.5',\n",
       " 'astropy==4.2.1',\n",
       " 'async-generator==1.10',\n",
       " 'atomicwrites==1.4.0',\n",
       " 'attrs==20.3.0',\n",
       " 'autopep8==1.5.6',\n",
       " 'babel==2.9.0',\n",
       " 'backcall==0.2.0',\n",
       " 'backports.functools-lru-cache==1.6.4',\n",
       " 'backports.shutil-get-terminal-size==1.0.0',\n",
       " 'backports.tempfile==1.0',\n",
       " 'backports.weakref==1.0.post1',\n",
       " 'beautifulsoup4==4.9.3',\n",
       " 'bitarray==2.1.0',\n",
       " 'bkcharts==0.2',\n",
       " 'black==19.10b0',\n",
       " 'bleach==3.3.0',\n",
       " 'bokeh==2.3.2',\n",
       " 'boto==2.49.0',\n",
       " 'bottleneck==1.3.2',\n",
       " 'brotlipy==0.7.0',\n",
       " 'certifi==2020.12.5',\n",
       " 'cffi==1.14.5',\n",
       " 'chardet==4.0.0',\n",
       " 'click==7.1.2',\n",
       " 'cloudpickle==1.6.0',\n",
       " 'clyent==1.2.2',\n",
       " 'colorama==0.4.4',\n",
       " 'conda-build==3.21.4',\n",
       " 'conda-content-trust==0+unknown',\n",
       " 'conda-package-handling==1.7.3',\n",
       " 'conda-repo-cli==1.0.4',\n",
       " 'conda-token==0.3.0',\n",
       " 'conda-verify==3.4.2',\n",
       " 'conda==4.10.3',\n",
       " 'contextlib2==0.6.0.post1',\n",
       " 'cryptography==3.4.7',\n",
       " 'cycler==0.10.0',\n",
       " 'cython==0.29.23',\n",
       " 'cytoolz==0.11.0',\n",
       " 'dask==2021.4.0',\n",
       " 'decorator==5.0.6',\n",
       " 'defusedxml==0.7.1',\n",
       " 'diff-match-patch==20200713',\n",
       " 'distributed==2021.4.1',\n",
       " 'docutils==0.17.1',\n",
       " 'entrypoints==0.3',\n",
       " 'et-xmlfile==1.0.1',\n",
       " 'fastcache==1.1.0',\n",
       " 'filelock==3.0.12',\n",
       " 'flake8==3.9.0',\n",
       " 'flask==1.1.2',\n",
       " 'fsspec==0.9.0',\n",
       " 'future==0.18.2',\n",
       " 'gevent==21.1.2',\n",
       " 'glob2==0.7',\n",
       " 'gmpy2==2.0.8',\n",
       " 'greenlet==1.0.0',\n",
       " 'h5py==2.10.0',\n",
       " 'heapdict==1.0.1',\n",
       " 'html5lib==1.1',\n",
       " 'idna==2.10',\n",
       " 'imageio==2.9.0',\n",
       " 'imagesize==1.2.0',\n",
       " 'importlib-metadata==3.10.0',\n",
       " 'iniconfig==1.1.1',\n",
       " 'intervaltree==3.1.0',\n",
       " 'ipykernel==5.3.4',\n",
       " 'ipython-genutils==0.2.0',\n",
       " 'ipython==7.22.0',\n",
       " 'ipywidgets==7.6.3',\n",
       " 'isort==5.8.0',\n",
       " 'itsdangerous==1.1.0',\n",
       " 'jdcal==1.4.1',\n",
       " 'jedi==0.17.2',\n",
       " 'jeepney==0.6.0',\n",
       " 'jinja2==2.11.3',\n",
       " 'joblib==1.0.1',\n",
       " 'json5==0.9.5',\n",
       " 'jsonschema==3.2.0',\n",
       " 'jupyter-client==6.1.12',\n",
       " 'jupyter-console==6.4.0',\n",
       " 'jupyter-core==4.7.1',\n",
       " 'jupyter-packaging==0.7.12',\n",
       " 'jupyter-server==1.4.1',\n",
       " 'jupyter==1.0.0',\n",
       " 'jupyterlab-pygments==0.1.2',\n",
       " 'jupyterlab-server==2.4.0',\n",
       " 'jupyterlab-widgets==1.0.0',\n",
       " 'jupyterlab==3.0.14',\n",
       " 'keyring==22.3.0',\n",
       " 'kiwisolver==1.3.1',\n",
       " 'lazy-object-proxy==1.6.0',\n",
       " 'libarchive-c==2.9',\n",
       " 'llvmlite==0.36.0',\n",
       " 'locket==0.2.1',\n",
       " 'lxml==4.6.3',\n",
       " 'markupsafe==1.1.1',\n",
       " 'matplotlib==3.3.4',\n",
       " 'mccabe==0.6.1',\n",
       " 'mistune==0.8.4',\n",
       " 'mkl-fft==1.3.0',\n",
       " 'mkl-random==1.2.1',\n",
       " 'mkl-service==2.3.0',\n",
       " 'mock==4.0.3',\n",
       " 'more-itertools==8.7.0',\n",
       " 'mpmath==1.2.1',\n",
       " 'msgpack==1.0.2',\n",
       " 'multipledispatch==0.6.0',\n",
       " 'mypy-extensions==0.4.3',\n",
       " 'navigator-updater==0.2.1',\n",
       " 'nbclassic==0.2.6',\n",
       " 'nbclient==0.5.3',\n",
       " 'nbconvert==6.0.7',\n",
       " 'nbformat==5.1.3',\n",
       " 'nest-asyncio==1.5.1',\n",
       " 'networkx==2.5',\n",
       " 'nltk==3.6.1',\n",
       " 'nose==1.3.7',\n",
       " 'notebook==6.3.0',\n",
       " 'numba==0.53.1',\n",
       " 'numexpr==2.7.3',\n",
       " 'numpy==1.20.1',\n",
       " 'numpydoc==1.1.0',\n",
       " 'olefile==0.46',\n",
       " 'openpyxl==3.0.7',\n",
       " 'packaging==20.9',\n",
       " 'pandas==1.2.4',\n",
       " 'pandocfilters==1.4.3',\n",
       " 'parso==0.7.0',\n",
       " 'partd==1.2.0',\n",
       " 'path==15.1.2',\n",
       " 'pathlib2==2.3.5',\n",
       " 'pathspec==0.7.0',\n",
       " 'patsy==0.5.1',\n",
       " 'pep8==1.7.1',\n",
       " 'pexpect==4.8.0',\n",
       " 'pickleshare==0.7.5',\n",
       " 'pillow==8.2.0',\n",
       " 'pip==21.0.1',\n",
       " 'pkginfo==1.7.0',\n",
       " 'pluggy==0.13.1',\n",
       " 'ply==3.11',\n",
       " 'prometheus-client==0.10.1',\n",
       " 'prompt-toolkit==3.0.17',\n",
       " 'psutil==5.8.0',\n",
       " 'ptyprocess==0.7.0',\n",
       " 'py==1.10.0',\n",
       " 'pycodestyle==2.6.0',\n",
       " 'pycosat==0.6.3',\n",
       " 'pycparser==2.20',\n",
       " 'pycurl==7.43.0.6',\n",
       " 'pydocstyle==6.0.0',\n",
       " 'pyerfa==1.7.3',\n",
       " 'pyflakes==2.2.0',\n",
       " 'pygments==2.8.1',\n",
       " 'pylint==2.7.4',\n",
       " 'pyls-black==0.4.6',\n",
       " 'pyls-spyder==0.3.2',\n",
       " 'pyodbc==4.0.0-unsupported',\n",
       " 'pyopenssl==20.0.1',\n",
       " 'pyparsing==2.4.7',\n",
       " 'pyrsistent==0.17.3',\n",
       " 'pysocks==1.7.1',\n",
       " 'pytest==6.2.3',\n",
       " 'python-dateutil==2.8.1',\n",
       " 'python-jsonrpc-server==0.4.0',\n",
       " 'python-language-server==0.36.2',\n",
       " 'pytz==2021.1',\n",
       " 'pywavelets==1.1.1',\n",
       " 'pyxdg==0.27',\n",
       " 'pyyaml==5.4.1',\n",
       " 'pyzmq==20.0.0',\n",
       " 'qdarkstyle==2.8.1',\n",
       " 'qtawesome==1.0.2',\n",
       " 'qtconsole==5.0.3',\n",
       " 'qtpy==1.9.0',\n",
       " 'regex==2021.4.4',\n",
       " 'requests==2.25.1',\n",
       " 'rope==0.18.0',\n",
       " 'rtree==0.9.7',\n",
       " 'ruamel-yaml-conda==0.15.100',\n",
       " 'scikit-image==0.18.1',\n",
       " 'scikit-learn==0.24.1',\n",
       " 'scipy==1.6.2',\n",
       " 'seaborn==0.11.1',\n",
       " 'secretstorage==3.3.1',\n",
       " 'send2trash==1.5.0',\n",
       " 'setuptools==52.0.0.post20210125',\n",
       " 'simplegeneric==0.8.1',\n",
       " 'singledispatch==0.0.0',\n",
       " 'sip==4.19.13',\n",
       " 'six==1.15.0',\n",
       " 'sniffio==1.2.0',\n",
       " 'snowballstemmer==2.1.0',\n",
       " 'sortedcollections==2.1.0',\n",
       " 'sortedcontainers==2.3.0',\n",
       " 'soupsieve==2.2.1',\n",
       " 'sphinx==4.0.1',\n",
       " 'sphinxcontrib-applehelp==1.0.2',\n",
       " 'sphinxcontrib-devhelp==1.0.2',\n",
       " 'sphinxcontrib-htmlhelp==1.0.3',\n",
       " 'sphinxcontrib-jsmath==1.0.1',\n",
       " 'sphinxcontrib-qthelp==1.0.3',\n",
       " 'sphinxcontrib-serializinghtml==1.1.4',\n",
       " 'sphinxcontrib-websupport==1.2.4',\n",
       " 'spyder-kernels==1.10.2',\n",
       " 'spyder==4.2.5',\n",
       " 'sqlalchemy==1.4.15',\n",
       " 'statsmodels==0.12.2',\n",
       " 'sympy==1.8',\n",
       " 'tables==3.6.1',\n",
       " 'tblib==1.7.0',\n",
       " 'terminado==0.9.4',\n",
       " 'testpath==0.4.4',\n",
       " 'textdistance==4.2.1',\n",
       " 'threadpoolctl==2.1.0',\n",
       " 'three-merge==0.1.1',\n",
       " 'tifffile==2020.10.1',\n",
       " 'toml==0.10.2',\n",
       " 'toolz==0.11.1',\n",
       " 'tornado==6.1',\n",
       " 'tqdm==4.59.0',\n",
       " 'traitlets==5.0.5',\n",
       " 'typed-ast==1.4.2',\n",
       " 'typing-extensions==3.7.4.3',\n",
       " 'ujson==4.0.2',\n",
       " 'unicodecsv==0.14.1',\n",
       " 'urllib3==1.26.4',\n",
       " 'watchdog==1.0.2',\n",
       " 'wcwidth==0.2.5',\n",
       " 'webencodings==0.5.1',\n",
       " 'werkzeug==1.0.1',\n",
       " 'wheel==0.36.2',\n",
       " 'widgetsnbextension==3.5.1',\n",
       " 'wrapt==1.12.1',\n",
       " 'wurlitzer==2.1.0',\n",
       " 'xlrd==2.0.1',\n",
       " 'xlsxwriter==1.3.8',\n",
       " 'xlwt==1.3.0',\n",
       " 'xmltodict==0.12.0',\n",
       " 'yapf==0.31.0',\n",
       " 'zict==2.0.0',\n",
       " 'zipp==3.4.1',\n",
       " 'zope.event==4.5.0',\n",
       " 'zope.interface==5.3.0']"
      ]
     },
     "execution_count": 2,
     "metadata": {},
     "output_type": "execute_result"
    }
   ],
   "source": [
    "import pip\n",
    "sorted([\"%s==%s\" % (i.key, i.version) for i in pip._internal.utils.misc.get_installed_distributions()])"
   ]
  },
  {
   "cell_type": "markdown",
   "metadata": {},
   "source": [
    "# Functions"
   ]
  },
  {
   "cell_type": "code",
   "execution_count": 4,
   "metadata": {},
   "outputs": [
    {
     "name": "stdout",
     "output_type": "stream",
     "text": [
      "9\n",
      "27\n",
      "cube 27\n",
      "square 9\n"
     ]
    }
   ],
   "source": [
    "def square(x):\n",
    "    \"\"\"Square of x.\"\"\"\n",
    "    return x*x\n",
    "\n",
    "def cube(x):\n",
    "    \"\"\"Cube of x.\"\"\"\n",
    "    return x*x*x\n",
    "\n",
    "# create a dictionary of functions\n",
    "funcs = {\n",
    "    'square': square,\n",
    "    'cube': cube,\n",
    "}\n",
    "\n",
    "x = 3\n",
    "print(square(x))\n",
    "print(cube(x))\n",
    "\n",
    "for func in sorted(funcs):\n",
    "    print (func, funcs[func](x))"
   ]
  },
  {
   "cell_type": "markdown",
   "metadata": {},
   "source": [
    "## Functions arguments"
   ]
  },
  {
   "cell_type": "markdown",
   "metadata": {},
   "source": [
    "What is passsed to a function is a copy of the input. Imagine we have a list *x =[1, 2, 3]*, i.e. a mutable object. If within the function the content of *x* is directly changed (e.g. *x[0] = 999*), then *x* changes outside the funciton as well. "
   ]
  },
  {
   "cell_type": "code",
   "execution_count": null,
   "metadata": {},
   "outputs": [],
   "source": [
    "def modify(x):\n",
    "    x[0] = 999\n",
    "    return x\n",
    "\n",
    "x = [1,2,3]\n",
    "print (x)\n",
    "print (modify(x))\n",
    "print (x)"
   ]
  },
  {
   "cell_type": "markdown",
   "metadata": {},
   "source": [
    "However, if *x* is reassigned within the function to a new object (e.g. another list), then the copy of the name *x* now points to the new object, but *x* outside the function is unhcanged."
   ]
  },
  {
   "cell_type": "code",
   "execution_count": 3,
   "metadata": {},
   "outputs": [
    {
     "name": "stdout",
     "output_type": "stream",
     "text": [
      "[1, 2, 3]\n",
      "[4, 5, 6]\n",
      "[1, 2, 3]\n"
     ]
    }
   ],
   "source": [
    "def no_modify(x):\n",
    "    x = [4,5,6]\n",
    "    return x\n",
    "\n",
    "x = [1,2,3]\n",
    "print (x)\n",
    "print (no_modify(x))\n",
    "print (x)\n"
   ]
  },
  {
   "cell_type": "markdown",
   "metadata": {},
   "source": [
    "What if the function tries to modify the value of an immutable object?"
   ]
  },
  {
   "cell_type": "markdown",
   "metadata": {},
   "source": [
    "Binding of default arguments occurs at function definition:"
   ]
  },
  {
   "cell_type": "code",
   "execution_count": 4,
   "metadata": {},
   "outputs": [
    {
     "name": "stdout",
     "output_type": "stream",
     "text": [
      "[1]\n",
      "[1, 1]\n",
      "[9, 9, 9, 1]\n",
      "[1, 1, 1]\n",
      "[1, 1, 1, 1]\n"
     ]
    }
   ],
   "source": [
    "def f(x = []):\n",
    "    x.append(1)\n",
    "    return x\n",
    "\n",
    "print (f())\n",
    "print (f())\n",
    "print (f(x = [9,9,9]))\n",
    "print (f())\n",
    "print (f())"
   ]
  },
  {
   "cell_type": "markdown",
   "metadata": {},
   "source": [
    "Try to aviod that!!"
   ]
  },
  {
   "cell_type": "code",
   "execution_count": 2,
   "metadata": {},
   "outputs": [
    {
     "name": "stdout",
     "output_type": "stream",
     "text": [
      "[1]\n",
      "[1]\n",
      "[9, 9, 9, 1]\n",
      "[1]\n",
      "[1]\n"
     ]
    }
   ],
   "source": [
    "def f(x = None):\n",
    "    if x is None:\n",
    "        x = []\n",
    "    x.append(1)\n",
    "    return x\n",
    "\n",
    "print (f())\n",
    "print (f())\n",
    "print (f(x = [9,9,9]))\n",
    "print (f())\n",
    "print (f())"
   ]
  },
  {
   "cell_type": "markdown",
   "metadata": {},
   "source": [
    "## Higher order functions\n",
    "\n",
    "A function that uses another function as an input argument or returns a function is known as a higher-order function (HOF). The most familiar examples are `map` and `filter`."
   ]
  },
  {
   "cell_type": "markdown",
   "metadata": {},
   "source": [
    "### map\n",
    "\n",
    "The map function applies a function to each member of a collection"
   ]
  },
  {
   "cell_type": "code",
   "execution_count": 5,
   "metadata": {},
   "outputs": [
    {
     "name": "stdout",
     "output_type": "stream",
     "text": [
      "[0, 1, 4, 9, 16]\n",
      "0\n",
      "1\n",
      "4\n",
      "9\n",
      "16\n"
     ]
    },
    {
     "data": {
      "text/plain": [
       "[0, 1, 4, 9, 16, 25]"
      ]
     },
     "execution_count": 5,
     "metadata": {},
     "output_type": "execute_result"
    }
   ],
   "source": [
    "x = list(map(square, range(5))) \n",
    "print (x)\n",
    "\n",
    "# Note the difference w.r.t python 2. In python 3 map retuns an iterator so you can do stuff like:\n",
    "for i in map(square,range(5)): print(i)\n",
    "\n",
    "# or\n",
    "[i for i in map(square,range(6))]"
   ]
  },
  {
   "cell_type": "markdown",
   "metadata": {},
   "source": [
    "### filter\n",
    "\n",
    "The filter function applies a predicate to each member of a collection, retaining only those members where the predicate is True"
   ]
  },
  {
   "cell_type": "code",
   "execution_count": null,
   "metadata": {},
   "outputs": [],
   "source": [
    "def is_even(x):\n",
    "    return x%2 == 0\n",
    "\n",
    "print (list(filter(is_even, range(5))))"
   ]
  },
  {
   "cell_type": "markdown",
   "metadata": {},
   "source": [
    "Combinations in sequence of HOF are obviously possible"
   ]
  },
  {
   "cell_type": "code",
   "execution_count": null,
   "metadata": {},
   "outputs": [],
   "source": [
    "list(map(square, filter(is_even, range(5))))"
   ]
  },
  {
   "cell_type": "markdown",
   "metadata": {},
   "source": [
    "### reduce\n",
    "\n",
    "The reduce function reduces a collection using a binary operator to combine items two at a time. More often than not reduce can be substituted with a more efficient for loop. It is worth mentioning it for its key role in big-data applications together with map (the map-reduce paradigm). \n",
    "N.B.: it no loger exist as built-in function in python 3, it is now part of the `functools` library"
   ]
  },
  {
   "cell_type": "code",
   "execution_count": null,
   "metadata": {},
   "outputs": [],
   "source": [
    "from functools import reduce\n",
    "\n",
    "def my_add(x, y):\n",
    "    return x + y\n",
    "\n",
    "# another implementation of the sum function\n",
    "reduce(my_add, [1,2,3,4,5])"
   ]
  },
  {
   "cell_type": "markdown",
   "metadata": {},
   "source": [
    "### zip\n",
    "\n",
    "zip is useful when you need to iterate over matched elements of multiple lists"
   ]
  },
  {
   "cell_type": "code",
   "execution_count": 1,
   "metadata": {},
   "outputs": [
    {
     "name": "stdout",
     "output_type": "stream",
     "text": [
      "1 10 a\n",
      "2 20 b\n",
      "3 30 c\n",
      "4 40 d\n"
     ]
    }
   ],
   "source": [
    "xs = [1, 2, 3, 4]\n",
    "ys = [10, 20, 30, 40]\n",
    "zs = ['a', 'b', 'c', 'd', 'e',]\n",
    "\n",
    "for x, y, z in zip(xs, ys, zs):\n",
    "    print (x, y, z)"
   ]
  },
  {
   "cell_type": "markdown",
   "metadata": {},
   "source": [
    "### Custom HOF"
   ]
  },
  {
   "cell_type": "code",
   "execution_count": 1,
   "metadata": {},
   "outputs": [
    {
     "ename": "NameError",
     "evalue": "name 'square' is not defined",
     "output_type": "error",
     "traceback": [
      "\u001b[0;31m---------------------------------------------------------------------------\u001b[0m",
      "\u001b[0;31mNameError\u001b[0m                                 Traceback (most recent call last)",
      "\u001b[0;32m<ipython-input-1-7210a9ef10eb>\u001b[0m in \u001b[0;36m<module>\u001b[0;34m\u001b[0m\n\u001b[1;32m      4\u001b[0m \u001b[0;34m\u001b[0m\u001b[0m\n\u001b[1;32m      5\u001b[0m \u001b[0mxs\u001b[0m \u001b[0;34m=\u001b[0m \u001b[0mrange\u001b[0m\u001b[0;34m(\u001b[0m\u001b[0;36m5\u001b[0m\u001b[0;34m)\u001b[0m\u001b[0;34m\u001b[0m\u001b[0;34m\u001b[0m\u001b[0m\n\u001b[0;32m----> 6\u001b[0;31m \u001b[0mprint\u001b[0m \u001b[0;34m(\u001b[0m\u001b[0mcustom_sum\u001b[0m\u001b[0;34m(\u001b[0m\u001b[0mxs\u001b[0m\u001b[0;34m,\u001b[0m \u001b[0msquare\u001b[0m\u001b[0;34m)\u001b[0m\u001b[0;34m)\u001b[0m\u001b[0;34m\u001b[0m\u001b[0;34m\u001b[0m\u001b[0m\n\u001b[0m\u001b[1;32m      7\u001b[0m \u001b[0mprint\u001b[0m \u001b[0;34m(\u001b[0m\u001b[0mcustom_sum\u001b[0m\u001b[0;34m(\u001b[0m\u001b[0mxs\u001b[0m\u001b[0;34m,\u001b[0m \u001b[0mcube\u001b[0m\u001b[0;34m)\u001b[0m\u001b[0;34m)\u001b[0m\u001b[0;34m\u001b[0m\u001b[0;34m\u001b[0m\u001b[0m\n\u001b[1;32m      8\u001b[0m \u001b[0;34m\u001b[0m\u001b[0m\n",
      "\u001b[0;31mNameError\u001b[0m: name 'square' is not defined"
     ]
    }
   ],
   "source": [
    "def custom_sum(xs, transform): # 'transform' is the name of fuction to pass\n",
    "    \"\"\"Returns the sum of xs after a user specified transform.\"\"\"\n",
    "    return sum(map(transform, xs))\n",
    "\n",
    "xs = range(5)\n",
    "print (custom_sum(xs, square))\n",
    "print (custom_sum(xs, cube))\n",
    "\n"
   ]
  },
  {
   "cell_type": "markdown",
   "metadata": {},
   "source": [
    "### Returning a function"
   ]
  },
  {
   "cell_type": "code",
   "execution_count": 5,
   "metadata": {},
   "outputs": [],
   "source": [
    "def make_logger(target):\n",
    "    def logger(data):\n",
    "        with open(target, 'a') as f:\n",
    "            f.write(data + '\\n')\n",
    "    return logger #returns the new function logger \n",
    "\n",
    "foo_logger = make_logger('foo.txt') #foo.txt will be created if not there already\n",
    "foo_logger('Hello')\n",
    "foo_logger('World') #tricks exotics "
   ]
  },
  {
   "cell_type": "code",
   "execution_count": 6,
   "metadata": {},
   "outputs": [
    {
     "name": "stdout",
     "output_type": "stream",
     "text": [
      "Hello\r\n",
      "World\r\n",
      "Hello\r\n",
      "World\r\n",
      "Hello\r\n",
      "World\r\n"
     ]
    }
   ],
   "source": [
    "! cat 'foo.txt'  #run whatever after cat in the terminal"
   ]
  },
  {
   "cell_type": "markdown",
   "metadata": {},
   "source": [
    "## Anonimous functions (lambda)\n",
    "\n",
    "When using functional style, there is often the need to create specific functions that perform a limited task as input to a HOF such as map or filter. In such cases, these functions are often written as anonymous or lambda functions. \n",
    "The syntax is as follows:\n",
    "\n",
    "lambda *arguments* : *expression*\n",
    "\n",
    "\n",
    "If you find it hard to understand what a lambda function is doing, it should probably be rewritten as a regular function."
   ]
  },
  {
   "cell_type": "code",
   "execution_count": null,
   "metadata": {},
   "outputs": [],
   "source": [
    "sum = lambda x,y: x+y #pointless antother way to mean 'def'\n",
    "sum(3,4)"
   ]
  },
  {
   "cell_type": "code",
   "execution_count": 7,
   "metadata": {},
   "outputs": [
    {
     "name": "stdout",
     "output_type": "stream",
     "text": [
      "0\n",
      "1\n",
      "4\n",
      "9\n",
      "16\n"
     ]
    }
   ],
   "source": [
    "for i in map(lambda x: x*x, range(5)): print (i) #tipically usage, function with no name "
   ]
  },
  {
   "cell_type": "code",
   "execution_count": 8,
   "metadata": {},
   "outputs": [
    {
     "name": "stdout",
     "output_type": "stream",
     "text": [
      "285\n"
     ]
    }
   ],
   "source": [
    "# what does this function do?\n",
    "from functools import reduce\n",
    "s1 = reduce(lambda x, y: x+y, map(lambda x: x**2, range(1,10)))\n",
    "print(s1)\n"
   ]
  },
  {
   "cell_type": "markdown",
   "metadata": {},
   "source": [
    "## Recursive functions "
   ]
  },
  {
   "cell_type": "code",
   "execution_count": 9,
   "metadata": {},
   "outputs": [
    {
     "name": "stdout",
     "output_type": "stream",
     "text": [
      "[1, 1, 2, 3, 5, 8, 13, 21, 34, 55]\n"
     ]
    }
   ],
   "source": [
    "def fib1(n): #fib=fibonacci\n",
    "    \"\"\"Fib with recursion.\"\"\"\n",
    "\n",
    "    # base case\n",
    "    if n==0 or n==1:\n",
    "        return 1\n",
    "    # recurssive case\n",
    "    else:\n",
    "        return fib1(n-1) + fib1(n-2)\n",
    "\n",
    "    \n",
    "print ([fib1(i) for i in range(10)])"
   ]
  },
  {
   "cell_type": "code",
   "execution_count": 12,
   "metadata": {},
   "outputs": [
    {
     "name": "stdout",
     "output_type": "stream",
     "text": [
      "[1, 1, 2, 3, 5, 8, 13, 21, 34, 55]\n"
     ]
    }
   ],
   "source": [
    "# In Python, a more efficient version that does not use recursion is\n",
    "\n",
    "def fib2(n):\n",
    "    \"\"\"Fib without recursion.\"\"\"\n",
    "    a, b = 0, 1\n",
    "    for i in range(1, n+1):\n",
    "        a, b = b, a+b\n",
    "    return b\n",
    "\n",
    "print ([fib2(i) for i in range(10)])"
   ]
  },
  {
   "cell_type": "code",
   "execution_count": 14,
   "metadata": {},
   "outputs": [
    {
     "name": "stdout",
     "output_type": "stream",
     "text": [
      "3.22 ms ± 12 µs per loop (mean ± std. dev. of 7 runs, 100 loops each)\n",
      "1.36 µs ± 11.2 ns per loop (mean ± std. dev. of 7 runs, 1000000 loops each)\n"
     ]
    }
   ],
   "source": [
    "# check indeed the timing:\n",
    "\n",
    "%timeit fib1(20) #run an analysis like mean,std, ecc..\n",
    "%timeit fib2(20)\n"
   ]
  },
  {
   "cell_type": "markdown",
   "metadata": {},
   "source": [
    "## Iterators\n",
    "\n",
    "Iterators represent streams of values. Because only one value is consumed at a time, they use very little memory. Use of iterators is very helpful for working with data sets too large to fit into RAM."
   ]
  },
  {
   "cell_type": "code",
   "execution_count": 6,
   "metadata": {},
   "outputs": [
    {
     "name": "stdout",
     "output_type": "stream",
     "text": [
      "1\n",
      "2\n",
      "3\n"
     ]
    },
    {
     "ename": "StopIteration",
     "evalue": "",
     "output_type": "error",
     "traceback": [
      "\u001b[0;31m---------------------------------------------------------------------------\u001b[0m",
      "\u001b[0;31mStopIteration\u001b[0m                             Traceback (most recent call last)",
      "\u001b[0;32m<ipython-input-6-5b7b9f7a2620>\u001b[0m in \u001b[0;36m<module>\u001b[0;34m\u001b[0m\n\u001b[1;32m      7\u001b[0m \u001b[0mprint\u001b[0m \u001b[0;34m(\u001b[0m\u001b[0mnext\u001b[0m\u001b[0;34m(\u001b[0m\u001b[0mx_iter\u001b[0m\u001b[0;34m)\u001b[0m\u001b[0;34m)\u001b[0m\u001b[0;34m\u001b[0m\u001b[0;34m\u001b[0m\u001b[0m\n\u001b[1;32m      8\u001b[0m \u001b[0mprint\u001b[0m \u001b[0;34m(\u001b[0m\u001b[0mnext\u001b[0m\u001b[0;34m(\u001b[0m\u001b[0mx_iter\u001b[0m\u001b[0;34m)\u001b[0m\u001b[0;34m)\u001b[0m\u001b[0;34m\u001b[0m\u001b[0;34m\u001b[0m\u001b[0m\n\u001b[0;32m----> 9\u001b[0;31m \u001b[0mprint\u001b[0m \u001b[0;34m(\u001b[0m\u001b[0mnext\u001b[0m\u001b[0;34m(\u001b[0m\u001b[0mx_iter\u001b[0m\u001b[0;34m)\u001b[0m\u001b[0;34m)\u001b[0m \u001b[0;31m#fail because there's no 4th element\u001b[0m\u001b[0;34m\u001b[0m\u001b[0;34m\u001b[0m\u001b[0m\n\u001b[0m",
      "\u001b[0;31mStopIteration\u001b[0m: "
     ]
    }
   ],
   "source": [
    "# Iterators can be created from sequences with the built-in function iter()\n",
    "\n",
    "xs = [1,2,3]\n",
    "x_iter = iter(xs)\n",
    "\n",
    "print (next(x_iter))\n",
    "print (next(x_iter))\n",
    "print (next(x_iter))\n",
    "print (next(x_iter)) #fail because there's no 4th element"
   ]
  },
  {
   "cell_type": "code",
   "execution_count": null,
   "metadata": {},
   "outputs": [],
   "source": [
    "# Most commonly, iterators are used (automatically) within a for loop\n",
    "# which terminates when it encouters a StopIteration exception\n",
    "\n",
    "x_iter = iter(xs)\n",
    "for x in x_iter:\n",
    "    print (x)"
   ]
  },
  {
   "cell_type": "markdown",
   "metadata": {},
   "source": [
    "## More on comprehensions"
   ]
  },
  {
   "cell_type": "code",
   "execution_count": 18,
   "metadata": {},
   "outputs": [
    {
     "name": "stdout",
     "output_type": "stream",
     "text": [
      "<generator object <genexpr> at 0x7fe79803ba50>\n",
      "[0, 1, 2, 3, 4, 5, 6, 7, 8, 9]\n",
      "{0, 1, 2, 3, 4, 5, 6, 7, 8, 9}\n",
      "{0: 0, 1: 1, 2: 2, 3: 3, 4: 4, 5: 5, 6: 6, 7: 7, 8: 8, 9: 9}\n"
     ]
    }
   ],
   "source": [
    "# A generator expression\n",
    "\n",
    "print ((x for x in range(10)))\n",
    "\n",
    "# A list comprehesnnion\n",
    "\n",
    "print ([x for x in range(10)])\n",
    "\n",
    "# A set comprehension\n",
    "\n",
    "print ({x for x in range(10)})\n",
    "\n",
    "# A dictionary comprehension\n",
    "\n",
    "print ({x: x for x in range(10)})"
   ]
  },
  {
   "cell_type": "markdown",
   "metadata": {},
   "source": [
    "## Useful Modules\n",
    "\n",
    "You may want to have a look at the content of the following modules for further usage of (HO) functions:\n",
    "  - [operator](https://docs.python.org/3/library/operator.html)\n",
    "  - [functools](https://docs.python.org/3/library/functools.html)\n",
    "  - [itertools](https://docs.python.org/3/library/itertools.html)\n",
    "  - [toolz](https://pypi.org/project/toolz/)\n",
    "  - [funcy](https://pypi.org/project/funcy/)"
   ]
  },
  {
   "cell_type": "markdown",
   "metadata": {},
   "source": [
    "## Decorators\n",
    "\n",
    "Decorators are a type of HOF that take a function and return a wrapped function that provides additional useful properties.\n",
    "\n",
    "Examples:\n",
    "\n",
    "  - logging\n",
    "  - profiling\n",
    "  - Just-In-Time (JIT) compilation"
   ]
  },
  {
   "cell_type": "code",
   "execution_count": 2,
   "metadata": {},
   "outputs": [],
   "source": [
    "def my_decorator(func):\n",
    "    def wrapper():\n",
    "        print(\"Something is happening before the function is called.\")\n",
    "        func()\n",
    "        print(\"Something is happening after the function is called.\")\n",
    "    return wrapper\n",
    "\n",
    "def say_whee():\n",
    "    print(\"Whee!\")\n",
    "\n",
    "say_whee = my_decorator(say_whee)"
   ]
  },
  {
   "cell_type": "code",
   "execution_count": 3,
   "metadata": {},
   "outputs": [
    {
     "name": "stdout",
     "output_type": "stream",
     "text": [
      "Something is happening before the function is called.\n",
      "Whee!\n",
      "Something is happening after the function is called.\n"
     ]
    }
   ],
   "source": [
    "say_whee()"
   ]
  },
  {
   "cell_type": "markdown",
   "metadata": {},
   "source": [
    "Python allows you to use decorators in a simpler way with the @ symbol, sometimes called the “pie” syntax"
   ]
  },
  {
   "cell_type": "code",
   "execution_count": 4,
   "metadata": {},
   "outputs": [],
   "source": [
    "def my_decorator(func):\n",
    "    def wrapper():\n",
    "        print(\"Something is happening before the function is called.\")\n",
    "        func()\n",
    "        print(\"Something is happening after the function is called.\")\n",
    "    return wrapper\n",
    "\n",
    "@my_decorator\n",
    "def say_whee():\n",
    "    print(\"Whee!\")"
   ]
  },
  {
   "cell_type": "code",
   "execution_count": 5,
   "metadata": {},
   "outputs": [
    {
     "name": "stdout",
     "output_type": "stream",
     "text": [
      "Something is happening before the function is called.\n",
      "Whee!\n",
      "Something is happening after the function is called.\n"
     ]
    }
   ],
   "source": [
    "say_whee()"
   ]
  },
  {
   "cell_type": "markdown",
   "metadata": {},
   "source": [
    "# Classes and Objects\n",
    "\n",
    "Old school object-oriented programming is possible and often used in python. Classes are defined similarly to standard object-oriented languages, with similar functionalities.\n",
    "\n",
    "The main python doc [page](https://docs.python.org/3.6/tutorial/classes.html) is worth reading through "
   ]
  },
  {
   "cell_type": "code",
   "execution_count": 1,
   "metadata": {},
   "outputs": [
    {
     "name": "stdout",
     "output_type": "stream",
     "text": [
      "buddy 12\n",
      "3\n"
     ]
    }
   ],
   "source": [
    "class Pet:\n",
    "    # the \"constructor\"\n",
    "    def __init__(self, name, age):  #inizialize the elements of the class\n",
    "        self.name=name\n",
    "        self.age=age\n",
    "    # class functions take the \"self\" parameter !!!\n",
    "    def set_name(self,name):\n",
    "        self.name=name\n",
    "    def convert_age(self,factor):\n",
    "        self.age*=factor\n",
    "\n",
    "buddy=Pet(\"buddy\",12)\n",
    "print (buddy.name, buddy.age) #the dot to acces to the attributes of classes\n",
    "buddy.age=3\n",
    "print (buddy.age)\n",
    "\n",
    "\n",
    "#phyton stresses more data structor \n",
    "#phyton doesn't need distructor \n"
   ]
  },
  {
   "cell_type": "code",
   "execution_count": 2,
   "metadata": {},
   "outputs": [
    {
     "name": "stdout",
     "output_type": "stream",
     "text": [
      "tobia 10\n",
      "70\n"
     ]
    }
   ],
   "source": [
    "# ineritance is straightforward\n",
    "\n",
    "class Dog(Pet): #inheritance-->class inheriting to another class, that's the syntax\n",
    "    \n",
    "    # the following variables is \"global\", i.e. holds for all \"Dog\" objects\n",
    "    species = \"mammal\"\n",
    "    # functions can be redefined as usual\n",
    "    def convert_age(self):\n",
    "        self.age*=7\n",
    "    def set_species(self, species):\n",
    "        self.species = species\n",
    "        \n",
    "puppy=Dog(\"tobia\",10)\n",
    "print(puppy.name, puppy.age)\n",
    "puppy.convert_age()\n",
    "print(puppy.age)\n",
    "\n",
    "#so obj oriented is possibly in phyton but not used a lot \n"
   ]
  },
  {
   "cell_type": "code",
   "execution_count": null,
   "metadata": {},
   "outputs": [],
   "source": []
  }
 ],
 "metadata": {
  "kernelspec": {
   "display_name": "Python 3",
   "language": "python",
   "name": "python3"
  },
  "language_info": {
   "codemirror_mode": {
    "name": "ipython",
    "version": 3
   },
   "file_extension": ".py",
   "mimetype": "text/x-python",
   "name": "python",
   "nbconvert_exporter": "python",
   "pygments_lexer": "ipython3",
   "version": "3.8.8"
  }
 },
 "nbformat": 4,
 "nbformat_minor": 2
}
