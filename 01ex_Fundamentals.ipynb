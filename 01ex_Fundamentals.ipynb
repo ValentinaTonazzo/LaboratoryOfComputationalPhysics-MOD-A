{
 "cells": [
  {
   "cell_type": "markdown",
   "metadata": {},
   "source": [
    "1\\. Write the following as a list comprehension"
   ]
  },
  {
   "cell_type": "code",
   "execution_count": 11,
   "metadata": {},
   "outputs": [
    {
     "name": "stdout",
     "output_type": "stream",
     "text": [
      "[(0, 0), (0, 1), (0, 2), (0, 3), (1, 0), (1, 1), (1, 2), (1, 3), (2, 0), (2, 1), (2, 2), (2, 3)]\n",
      "[(0, 0), (0, 1), (0, 2), (0, 3), (1, 0), (1, 1), (1, 2), (1, 3), (2, 0), (2, 1), (2, 2), (2, 3)]\n",
      "[0, 4, 16]\n",
      "[0, 4, 16]\n"
     ]
    }
   ],
   "source": [
    "# 1\n",
    "ans = []\n",
    "for i in range(3):\n",
    "    for j in range(4):\n",
    "        ans.append((i, j))\n",
    "print (ans)\n",
    "\n",
    "ans2 = [(i,j) for i in range(3) for j in range(4) ]\n",
    "print(ans2)\n",
    "\n",
    "# 2\n",
    "\n",
    "\n",
    "ans = map(lambda x: x*x, filter(lambda x: x%2 == 0, range(5)))\n",
    "print (list(ans))\n",
    "\n",
    "def square(x):\n",
    "    \"\"\"Square of x.\"\"\"\n",
    "    return x*x\n",
    "\n",
    "ans3 =[i for i in map(square,range(5))if i%2==0]\n",
    "print(ans3)\n",
    "\n"
   ]
  },
  {
   "cell_type": "markdown",
   "metadata": {},
   "source": [
    "2\\. Convert the following function into a pure function with no global variables or side effects"
   ]
  },
  {
   "cell_type": "code",
   "execution_count": 11,
   "metadata": {},
   "outputs": [
    {
     "name": "stdout",
     "output_type": "stream",
     "text": [
      "[1, 2, 3]\n",
      "[1, 2, 3, 0, 1, 2, 3, 4]\n",
      "[1, 2, 3]\n"
     ]
    }
   ],
   "source": [
    "\"\"\"x = 5\n",
    "def f(alist):\n",
    "    for i in range(x):\n",
    "         alist.append(i)\n",
    "    return alist\n",
    "\n",
    "alist = [1,2,3]\n",
    "print(alist)\n",
    "ans = f(alist)\n",
    "print (ans)\n",
    "print (alist) # alist has been changed!\"\"\"\n",
    "\n",
    "\n",
    "\n",
    "def f2(alist):\n",
    "    alist = alist[:]\n",
    "    for i in range (5): #da capire se il 5 messo qui vada bene-->boh, chi può dirlo(?)\n",
    "        alist.append(i) \n",
    "    return alist\n",
    "\n",
    "alist = [1,2,3]\n",
    "print(alist)\n",
    "print (f2(alist))\n",
    "print (alist)"
   ]
  },
  {
   "cell_type": "markdown",
   "metadata": {},
   "source": [
    "3\\. Write a `decorator` hello that makes every wrapped function print “Hello!”, i.e. something like:\n",
    "\n",
    "```python\n",
    "@hello\n",
    "def square(x):\n",
    "    return x*x\n",
    "```\n",
    "\n"
   ]
  },
  {
   "cell_type": "markdown",
   "metadata": {},
   "source": [
    "4\\. Write the factorial function so that it a) does and b) does not use recursion."
   ]
  },
  {
   "cell_type": "markdown",
   "metadata": {},
   "source": [
    "5\\. Use HOFs (zip in particular) to compute the weight of a circle, a disk and a sphere, assuming different radii and different densities:\n",
    "\n",
    "```python\n",
    "densities = {\"Al\":[0.5,1,2],\"Fe\":[3,4,5],\"Pb\": [15,20,30]}\n",
    "radii = [1,2,3]\n",
    "```\n",
    "\n",
    "where the entries of the dictionary's values are the linear, superficial and volumetric densities of the materials respectively.\n",
    "\n",
    "In particular define a list of three lambda functions using a comprehension that computes the circumference, the area and the volume for a given radius.\n"
   ]
  },
  {
   "cell_type": "markdown",
   "metadata": {},
   "source": [
    "6\\. Edit the class defintion to add an instance attribute of is_hungry = True to the Dog class. Then add a method called eat() which changes the value of is_hungry to False when called. Figure out the best way to feed each dog and then output “My dogs are hungry.” if all are hungry or “My dogs are not hungry.” if all are not hungry. The final output should look like this:\n",
    "\n",
    "`I have 3 dogs. \n",
    "Tom is 6. \n",
    "Fletcher is 7. \n",
    "Larry is 9. \n",
    "And they're all mammals, of course. \n",
    "My dogs are not hungry.\n",
    "`\n",
    "\n",
    "```python\n",
    "# Parent class\n",
    "class Dog:\n",
    "\n",
    "    # Class attribute\n",
    "    species = 'mammal'\n",
    "\n",
    "    # Initializer / Instance attributes\n",
    "    def __init__(self, name, age):\n",
    "        self.name = name\n",
    "        self.age = age\n",
    "\n",
    "    # instance method\n",
    "    def description(self):\n",
    "        return \"{} is {} years old\".format(self.name, self.age)\n",
    "\n",
    "    # instance method\n",
    "    def speak(self, sound):\n",
    "        return \"{} says {}\".format(self.name, sound)\n",
    "\n",
    "# Child class (inherits from Dog class)\n",
    "class RussellTerrier(Dog):\n",
    "    def run(self, speed):\n",
    "        return \"{} runs {}\".format(self.name, speed)\n",
    "\n",
    "# Child class (inherits from Dog class)\n",
    "class Bulldog(Dog):\n",
    "    def run(self, speed):\n",
    "        return \"{} runs {}\".format(self.name, speed)\n",
    "```"
   ]
  },
  {
   "cell_type": "code",
   "execution_count": 17,
   "metadata": {},
   "outputs": [
    {
     "name": "stdout",
     "output_type": "stream",
     "text": [
      "Hello\n",
      "36\n"
     ]
    }
   ],
   "source": [
    "#esercizio 3\n",
    "def Hello(func):\n",
    "    def wrapper(x):\n",
    "        print(\"Hello\")\n",
    "        print(func(x))\n",
    "    return wrapper\n",
    "\n",
    "@Hello\n",
    "def square(x):\n",
    "    return x*x\n",
    "\n",
    "square(6)\n",
    "\n"
   ]
  },
  {
   "cell_type": "code",
   "execution_count": 38,
   "metadata": {},
   "outputs": [
    {
     "name": "stdout",
     "output_type": "stream",
     "text": [
      "120\n",
      "120\n"
     ]
    }
   ],
   "source": [
    "#esercizio 4\n",
    "\n",
    "def fact(n): #fact=fattoriale\n",
    "    \"\"\"Fact with recursion.\"\"\"\n",
    "\n",
    "    # base case\n",
    "    if n==0 :\n",
    "        return 1\n",
    "    # recursive case\n",
    "    else:\n",
    "        return fact(n-1)*n\n",
    "\n",
    "print (fact(5))\n",
    "\n",
    "def fact2(n):\n",
    "    \"\"\"Fact without recursion.\"\"\"\n",
    "    if n==0:\n",
    "        return 1\n",
    "    else:\n",
    "        c = 1\n",
    "        for i in range(1, n+1):\n",
    "            c = c*i\n",
    "    return c\n",
    "\n",
    "print (fact2(5))\n"
   ]
  },
  {
   "cell_type": "code",
   "execution_count": 51,
   "metadata": {},
   "outputs": [
    {
     "name": "stdout",
     "output_type": "stream",
     "text": [
      "Alluminio\n",
      "\n",
      "raggio: 1\n",
      "misura,  densità,  peso\n",
      "6.283185307179586 0.5 3.141592653589793\n",
      "3.141592653589793 1 3.141592653589793\n",
      "4.1887902047863905 2 8.377580409572781\n",
      "raggio: 2\n",
      "misura,  densità,  peso\n",
      "12.566370614359172 0.5 6.283185307179586\n",
      "12.566370614359172 1 12.566370614359172\n",
      "33.510321638291124 2 67.02064327658225\n",
      "raggio: 3\n",
      "misura,  densità,  peso\n",
      "18.84955592153876 0.5 9.42477796076938\n",
      "28.274333882308138 1 28.274333882308138\n",
      "113.09733552923255 2 226.1946710584651\n",
      "\n",
      " Ferro \n",
      "\n",
      "raggio: 1\n",
      "misura,  densità,  peso\n",
      "6.283185307179586 3 18.84955592153876\n",
      "3.141592653589793 4 12.566370614359172\n",
      "4.1887902047863905 5 20.94395102393195\n",
      "raggio: 2\n",
      "misura,  densità,  peso\n",
      "12.566370614359172 3 37.69911184307752\n",
      "12.566370614359172 4 50.26548245743669\n",
      "33.510321638291124 5 167.5516081914556\n",
      "raggio: 3\n",
      "misura,  densità,  peso\n",
      "18.84955592153876 3 56.548667764616276\n",
      "28.274333882308138 4 113.09733552923255\n",
      "113.09733552923255 5 565.4866776461628\n",
      "\n",
      " Piombo \n",
      "\n",
      "raggio: 1\n",
      "misura,  densità,  peso\n",
      "6.283185307179586 15 94.24777960769379\n",
      "3.141592653589793 20 62.83185307179586\n",
      "4.1887902047863905 30 125.66370614359171\n",
      "raggio: 2\n",
      "misura,  densità,  peso\n",
      "12.566370614359172 15 188.49555921538757\n",
      "12.566370614359172 20 251.32741228718345\n",
      "33.510321638291124 30 1005.3096491487337\n",
      "raggio: 3\n",
      "misura,  densità,  peso\n",
      "18.84955592153876 15 282.7433388230814\n",
      "28.274333882308138 20 565.4866776461628\n",
      "113.09733552923255 30 3392.9200658769764\n"
     ]
    }
   ],
   "source": [
    "import math\n",
    "def Circonferenza(r):\n",
    "    return 2*math.pi*r\n",
    "\n",
    "def Area(r):\n",
    "    return math.pi*r*r\n",
    "\n",
    "def Volume(r):\n",
    "    return 4*math.pi*(r**3)/3\n",
    "\n",
    "def Functions(r):\n",
    "    alist=[Circonferenza(r),Area(r),Volume(r)] #si potrebbe fare un decorator che dice \"circonferenza/area/volume di raggio r...\"\n",
    "    return alist\n",
    "\n",
    "densities = {\"Al\":[0.5,1,2],\"Fe\":[3,4,5],\"Pb\": [15,20,30]}\n",
    "radii = [1,2,3]\n",
    "lengths = [Functions(radii[i]) for i in range(len(radii))]\n",
    "#print(lengths,\"\\n\")\n",
    "\n",
    "print(\"Alluminio\\n\")\n",
    "for j in range(len(radii)):\n",
    "    print(\"raggio:\", radii[j])\n",
    "    print(\"misura,  densità,  peso\")\n",
    "    for m,n in zip(lengths[j],densities[\"Al\"]):\n",
    "        print(m,n, m*n)\n",
    "        \n",
    "print(\"\\n Ferro \\n\")        \n",
    "for j in range(len(radii)):\n",
    "    print(\"raggio:\", radii[j])\n",
    "    print(\"misura,  densità,  peso\")\n",
    "    for m,n in zip(lengths[j],densities[\"Fe\"]):\n",
    "        print(m,n, m*n)\n",
    "        \n",
    "print(\"\\n Piombo \\n\")        \n",
    "for j in range(len(radii)):\n",
    "    print(\"raggio:\", radii[j])\n",
    "    print(\"misura,  densità,  peso\")\n",
    "    for m,n in zip(lengths[j],densities[\"Pb\"]):\n",
    "        print(m,n, m*n)\n",
    "    \n",
    "    \n",
    "       "
   ]
  },
  {
   "cell_type": "code",
   "execution_count": 52,
   "metadata": {},
   "outputs": [
    {
     "name": "stdout",
     "output_type": "stream",
     "text": [
      "I have 3 dogs:\n",
      "Tom is 6 years old.\n",
      "Fletcher is 7 years old.\n",
      "Larry is 9 years old.\n",
      "And they're all mammals, of course.\n",
      "My dogs are hungry\n",
      "Tom is hungry: feed him!\n",
      "Press Enter to feed him...\n",
      "Fletcher is hungry: feed him!\n",
      "Press Enter to feed him...\n",
      "Larry is hungry: feed him!\n",
      "Press Enter to feed him...\n",
      "My dogs are not hungry.\n"
     ]
    }
   ],
   "source": [
    "\n",
    "# Parent class\n",
    "class Dog:\n",
    "\n",
    "    # Class attribute\n",
    "    species = 'mammal' \n",
    "\n",
    "    # Initializer / Instance attributes\n",
    "    def __init__(self, name, age, is_hungry):\n",
    "        self.name = name\n",
    "        self.age = age\n",
    "        self.is_hungry = is_hungry\n",
    "\n",
    "    # instance method\n",
    "    def description(self):\n",
    "        return \"{} is {} years old.\".format(self.name, self.age)\n",
    "\n",
    "    # instance method\n",
    "    def speak(self, sound):\n",
    "        return \"{} says {}.\".format(self.name, sound)\n",
    "    \n",
    "    # intance method\n",
    "    def eat(self):\n",
    "        if self.is_hungry==True:\n",
    "            is_hungry=False \n",
    "            return is_hungry \n",
    "\n",
    "# Child class (inherits from Dog class)\n",
    "class RussellTerrier(Dog):\n",
    "    def run(self, speed):\n",
    "        return \"{} runs {}\".format(self.name, speed)\n",
    "\n",
    "# Child class (inherits from Dog class)\n",
    "class Bulldog(Dog):\n",
    "    def run(self, speed):\n",
    "        return \"{} runs {}\".format(self.name, speed)\n",
    "    \n",
    "print(\"I have 3 dogs:\")\n",
    "\n",
    "#dog initialization\n",
    "Tom = Dog(\"Tom\",6,True)\n",
    "Fletcher = Dog(\"Fletcher\",7,True)\n",
    "Larry = Dog(\"Larry\",9,True)\n",
    "Dogs = [Tom,Fletcher,Larry] #a list of dogs\n",
    "\n",
    "for i in range(3):\n",
    "    print(Dogs[i].description())\n",
    "\n",
    "print(\"And they're all mammals, of course.\")\n",
    " \n",
    "\n",
    "if Tom.is_hungry==True and Fletcher.is_hungry==True and Larry.is_hungry==True:\n",
    "    print (\"My dogs are hungry\")\n",
    "    \n",
    "if Tom.is_hungry==False and Fletcher.is_hungry==False and Larry.is_hungry==False:\n",
    "    print (\"My dogs are not hungry\")\n",
    "\n",
    "for i in range(3):\n",
    "    if Dogs[i].is_hungry == True :\n",
    "        print(Dogs[i].name, \"is hungry: feed him!\")\n",
    "        input(\"Press Enter to feed him...\")\n",
    "        Dogs[i].eat()\n",
    "        \n",
    "print(\"My dogs are not hungry.\")\n",
    "        \n"
   ]
  },
  {
   "cell_type": "code",
   "execution_count": null,
   "metadata": {},
   "outputs": [],
   "source": []
  }
 ],
 "metadata": {
  "kernelspec": {
   "display_name": "Python 3",
   "language": "python",
   "name": "python3"
  },
  "language_info": {
   "codemirror_mode": {
    "name": "ipython",
    "version": 3
   },
   "file_extension": ".py",
   "mimetype": "text/x-python",
   "name": "python",
   "nbconvert_exporter": "python",
   "pygments_lexer": "ipython3",
   "version": "3.8.8"
  }
 },
 "nbformat": 4,
 "nbformat_minor": 2
}
