{
 "cells": [
  {
   "cell_type": "markdown",
   "metadata": {},
   "source": [
    "1. The MickeyMouse problem\n",
    "\n",
    "a) Write a program that prints the numbers from 1 to 100. But for multiples of three print Mickey instead of the number and for the multiples of five print Mouse. For numbers which are multiples of both three and five print MickeyMouse\n",
    "\n",
    "b) Put the result in a tuple and substitute Mickey with Donald and Mouse with Duck\n"
   ]
  },
  {
   "cell_type": "markdown",
   "metadata": {},
   "source": [
    "2\\. The swap function\n",
    "\n",
    "Write a function that swap the values of two input variables x and y (whatever the type). Try to do that also without a temporary variable"
   ]
  },
  {
   "cell_type": "markdown",
   "metadata": {},
   "source": [
    "3\\. Computing the distance\n",
    "\n",
    "Write a function that calculates and returns the euclidean distance between two points *u* and *v*, where *u* and *v* are both 2-tuples *(x,y)*. For example, if *u=(3,0)* and *v=(0,4)*, the function should return 5"
   ]
  },
  {
   "cell_type": "markdown",
   "metadata": {},
   "source": [
    "4\\. Counting letters\n",
    "\n",
    "Write a program to calculate the number of times each character occurs in a given string *s*. Ignore differneces in capitalization"
   ]
  },
  {
   "cell_type": "code",
   "execution_count": 1,
   "metadata": {},
   "outputs": [
    {
     "name": "stdout",
     "output_type": "stream",
     "text": [
      "1\n",
      "2\n",
      "Mickey\n",
      "4\n",
      "Mouse\n",
      "Mickey\n",
      "7\n",
      "8\n",
      "Mickey\n",
      "Mouse\n",
      "11\n",
      "Mickey\n",
      "13\n",
      "14\n",
      "Mickey Mouse\n",
      "16\n",
      "17\n",
      "Mickey\n",
      "19\n",
      "Mouse\n",
      "Mickey\n",
      "22\n",
      "23\n",
      "Mickey\n",
      "Mouse\n",
      "26\n",
      "Mickey\n",
      "28\n",
      "29\n",
      "Mickey Mouse\n",
      "31\n",
      "32\n",
      "Mickey\n",
      "34\n",
      "Mouse\n",
      "Mickey\n",
      "37\n",
      "38\n",
      "Mickey\n",
      "Mouse\n",
      "41\n",
      "Mickey\n",
      "43\n",
      "44\n",
      "Mickey Mouse\n",
      "46\n",
      "47\n",
      "Mickey\n",
      "49\n",
      "Mouse\n",
      "Mickey\n",
      "52\n",
      "53\n",
      "Mickey\n",
      "Mouse\n",
      "56\n",
      "Mickey\n",
      "58\n",
      "59\n",
      "Mickey Mouse\n",
      "61\n",
      "62\n",
      "Mickey\n",
      "64\n",
      "Mouse\n",
      "Mickey\n",
      "67\n",
      "68\n",
      "Mickey\n",
      "Mouse\n",
      "71\n",
      "Mickey\n",
      "73\n",
      "74\n",
      "Mickey Mouse\n",
      "76\n",
      "77\n",
      "Mickey\n",
      "79\n",
      "Mouse\n",
      "Mickey\n",
      "82\n",
      "83\n",
      "Mickey\n",
      "Mouse\n",
      "86\n",
      "Mickey\n",
      "88\n",
      "89\n",
      "Mickey Mouse\n",
      "91\n",
      "92\n",
      "Mickey\n",
      "94\n",
      "Mouse\n",
      "Mickey\n",
      "97\n",
      "98\n",
      "Mickey\n",
      "(1, 2, 'Donald', 4, 'Duck', 'Donald', 7, 8, 'Donald', 'Duck', 11, 'Donald', 13, 14, 'Donald Duck', 16, 17, 'Donald', 19, 'Duck', 'Donald', 22, 23, 'Donald', 'Duck', 26, 'Donald', 28, 29, 'Donald Duck', 31, 32, 'Donald', 34, 'Duck', 'Donald', 37, 38, 'Donald', 'Duck', 41, 'Donald', 43, 44, 'Donald Duck', 46, 47, 'Donald', 49, 'Duck', 'Donald', 52, 53, 'Donald', 'Duck', 56, 'Donald', 58, 59, 'Donald Duck', 61, 62, 'Donald', 64, 'Duck', 'Donald', 67, 68, 'Donald', 'Duck', 71, 'Donald', 73, 74, 'Donald Duck', 76, 77, 'Donald', 79, 'Duck', 'Donald', 82, 83, 'Donald', 'Duck', 86, 'Donald', 88, 89, 'Donald Duck', 91, 92, 'Donald', 94, 'Duck', 'Donald', 97, 98, 'Donald')\n",
      "4 3\n",
      "4 3\n",
      "Inserire Stringa:Ciaoneeeeecomeva\n",
      "16\n",
      "il carattere ' c ' è stato trovato  2 volte\n",
      "il carattere ' i ' è stato trovato  1 volte\n",
      "il carattere ' a ' è stato trovato  2 volte\n",
      "il carattere ' o ' è stato trovato  2 volte\n",
      "il carattere ' n ' è stato trovato  1 volte\n",
      "il carattere ' e ' è stato trovato  6 volte\n",
      "il carattere ' m ' è stato trovato  1 volte\n",
      "il carattere ' v ' è stato trovato  1 volte\n"
     ]
    }
   ],
   "source": [
    "#esercizio 1 a+b\n",
    "a=()\n",
    "for i in range(1,100):\n",
    "    if i % 3 == 0 and i % 5 != 0:\n",
    "        print (\"Mickey\")\n",
    "        a = a + (\"Donald\",)\n",
    "    elif i % 5 == 0 and i % 3 != 0 : \n",
    "        print (\"Mouse\")\n",
    "        a = a + (\"Duck\",)\n",
    "    elif i % 3 == 0 and i % 5 == 0:\n",
    "        print (\"Mickey Mouse\")\n",
    "        a = a + (\"Donald Duck\",)\n",
    "    elif i:\n",
    "        print (i)\n",
    "        a = a + (i,)\n",
    "print(a)\n",
    "\n",
    "\n",
    "        \n",
    "#esercizio 2\n",
    "def swap(x,y):\n",
    "    c = 0\n",
    "    c = x\n",
    "    x = y\n",
    "    y = c    \n",
    "    print (x,y)\n",
    "\n",
    "swap(3,4)\n",
    "\n",
    "def swap2(x,y):\n",
    "    x = x+y\n",
    "    y = x-y\n",
    "    x = x-y\n",
    "    print(x,y)\n",
    "    \n",
    "swap2(3,4)\n",
    "\n",
    "#esercizio 3\n",
    "u = (3,0)\n",
    "v = (0,4)\n",
    "def distance(x,y):\n",
    "   \n",
    "    d = ((x[0]-y[0])**2+(x[1]-y[1])**2)**.5\n",
    "    return d\n",
    "\n",
    "distance(u,v)\n",
    "\n",
    "#esercizio 4\n",
    "def Nuovalettera (let,s): #se b==0 ho una nuova lettera\n",
    "    b = 0\n",
    "    for i in range (0, len(s)): \n",
    "        if let == s[i]:\n",
    "            b = 1\n",
    "            break \n",
    "    return b\n",
    "\n",
    "def Trovalettera (let,x):  #mi restituisce l'indice della lista a cui corrisponde la lettera\n",
    "    for i in range (0,len(x)):\n",
    "        if let == x[i]:\n",
    "            break\n",
    "    return i\n",
    "\n",
    "stringa = input(\"Inserire Stringa:\")\n",
    "stringa=stringa.lower()\n",
    "print (len(stringa))\n",
    "\n",
    "a_list=[]\n",
    "b_list=[]\n",
    "\n",
    "for i in range (len(stringa)):\n",
    "    if Nuovalettera (stringa[i],a_list)==0:\n",
    "        a_list.append(stringa[i])\n",
    "        b_list.append(1)\n",
    "    else: \n",
    "        c=Trovalettera(stringa[i],a_list)\n",
    "        b_list[c]=b_list[c]+1\n",
    "\n",
    "for i in range (0,len(a_list)):\n",
    "    print (\"il carattere '\",a_list[i],\"' è stato trovato \",b_list[i],\"volte\")\n",
    "\n",
    "\n",
    "\n",
    "\n",
    "    "
   ]
  },
  {
   "cell_type": "markdown",
   "metadata": {},
   "source": [
    "5\\. Isolating the unique\n",
    "\n",
    "Write a function that determines and count the unique numbers in the list *l*"
   ]
  },
  {
   "cell_type": "code",
   "execution_count": 2,
   "metadata": {},
   "outputs": [
    {
     "name": "stdout",
     "output_type": "stream",
     "text": [
      "{1, 3, 5, 8, 9, 10, 16, 18, 19, 20, 24, 30, 31, 33, 34, 36, 37, 39, 41, 42, 45, 47, 50, 51, 53, 54, 55, 56, 57, 58, 63, 64, 66, 70, 72, 74, 75, 79, 81, 82, 84, 85, 86, 87, 88, 89, 90, 91, 92, 94, 95, 96, 98, 99}\n",
      "gli elementi unici sono: 54\n"
     ]
    }
   ],
   "source": [
    "l = [36, 45, 58, 3, 74, 96, 64, 45, 31, 10, 24, 19, 33, 86, 99, 18, 63, 70, 85,\n",
    " 85, 63, 47, 56, 42, 70, 84, 88, 55, 20, 54, 8, 56, 51, 79, 81, 57, 37, 91,\n",
    " 1, 84, 84, 36, 66, 9, 89, 50, 42, 91, 50, 95, 90, 98, 39, 16, 82, 31, 92, 41,\n",
    " 45, 30, 66, 70, 34, 85, 94, 5, 3, 36, 72, 91, 84, 34, 87, 75, 53, 51, 20, 89, 51, 20]\n",
    "\n",
    "def Nuova_funzione (lista):\n",
    "    s=set()\n",
    "    for i in range (len(lista)):\n",
    "        s.add(lista[i])\n",
    "    \n",
    "    print ( s )\n",
    "    print (\"gli elementi unici sono:\",len(s))\n",
    "    \n",
    "Nuova_funzione(l)"
   ]
  },
  {
   "cell_type": "markdown",
   "metadata": {},
   "source": [
    "6\\. Combination of functions\n",
    "\n",
    "Write two functions - one that returns the square of a number, and one that returns the cube. Now write a third function that returns the number raised to the 6th power using the two previous functions."
   ]
  },
  {
   "cell_type": "markdown",
   "metadata": {},
   "source": [
    "7\\. Cubes\n",
    "\n",
    "Create a list of the cubes of x for x in *[0, 10]* using:\n",
    "\n",
    "a) a for loop\n",
    "\n",
    "b) a list comprehension\n"
   ]
  },
  {
   "cell_type": "markdown",
   "metadata": {},
   "source": [
    "8\\. Nested list comprehension\n",
    "\n",
    "A Pythagorean triple is an integer solution to the Pythagorean theorem $a^2+b^2=c^2$. The first Pythagorean triple is (3,4,5). Find and put in a tuple all unique Pythagorean triples for the positive integers a, b and c less than 100."
   ]
  },
  {
   "cell_type": "markdown",
   "metadata": {},
   "source": [
    "9\\. Normalization\n",
    "\n",
    "Write a function that takes a tuple of numbers and returns it with the entries normalized to one"
   ]
  },
  {
   "cell_type": "code",
   "execution_count": 28,
   "metadata": {},
   "outputs": [
    {
     "name": "stdout",
     "output_type": "stream",
     "text": [
      "La sesta potenza di 5 è: 15625\n",
      "\n",
      " con loop for: [0, 1, 4, 9, 16, 25, 36, 49, 64, 81]\n",
      "\n",
      " con list comprehension: [0, 1, 4, 9, 16, 25, 36, 49, 64, 81]\n",
      "\n",
      " Pythagorean triples \n",
      " [(3, 4, 5), (5, 12, 13), (6, 8, 10), (7, 24, 25), (8, 15, 17), (9, 12, 15), (9, 40, 41), (10, 24, 26), (11, 60, 61), (12, 16, 20), (12, 35, 37), (13, 84, 85), (14, 48, 50), (15, 20, 25), (15, 36, 39), (16, 30, 34), (16, 63, 65), (18, 24, 30), (18, 80, 82), (20, 21, 29), (20, 48, 52), (21, 28, 35), (21, 72, 75), (24, 32, 40), (24, 45, 51), (24, 70, 74), (25, 60, 65), (27, 36, 45), (28, 45, 53), (28, 96, 100), (30, 40, 50), (30, 72, 78), (32, 60, 68), (33, 44, 55), (33, 56, 65), (35, 84, 91), (36, 48, 60), (36, 77, 85), (39, 52, 65), (39, 80, 89), (40, 42, 58), (40, 75, 85), (42, 56, 70), (45, 60, 75), (48, 55, 73), (48, 64, 80), (51, 68, 85), (54, 72, 90), (57, 76, 95), (60, 63, 87), (60, 80, 100), (65, 72, 97)]\n"
     ]
    }
   ],
   "source": [
    "#esercizio 6\n",
    "def Square (x):\n",
    "    x=x**2\n",
    "    return x\n",
    "\n",
    "def Cube (y):\n",
    "    y=y**3\n",
    "    return y\n",
    "\n",
    "def Sixth (z):\n",
    "    z=Cube(Square(z))\n",
    "    return z\n",
    "print (\"La sesta potenza di 5 è:\",Sixth(5))\n",
    "\n",
    "#esercizio 7\n",
    "squares = []\n",
    "for x in range(10): \n",
    "    squares.append(x**2)\n",
    "print(\"\\n con loop for:\",squares)\n",
    "\n",
    "squares2 = [x**2 for x in range(10)]\n",
    "print(\"\\n con list comprehension:\",squares2)\n",
    "\n",
    "#esercizio 8\n",
    "N=100\n",
    "print(\"\\n Pythagorean triples \\n\",[(a,b,c) for a in range(1,N+1) for b in range(a,N+1) for c in range(b,N+1) if a**2 + b**2 == c**2])\n",
    "\n",
    "\n",
    "\n",
    "\n",
    "\n"
   ]
  },
  {
   "cell_type": "code",
   "execution_count": 35,
   "metadata": {
    "scrolled": true
   },
   "outputs": [
    {
     "name": "stdout",
     "output_type": "stream",
     "text": [
      "(0.16666666666666666, 0.3333333333333333, 0.5)\n"
     ]
    }
   ],
   "source": [
    "#es 9\n",
    "tupla=(1,2,3)\n",
    "\n",
    "def Normalization(t):\n",
    "    s=()\n",
    "    summ=0\n",
    "    for i in range(len(t)):\n",
    "        summ+=t[i]\n",
    "    for i in range(len(t)):\n",
    "        s+=(t[i]/summ,)\n",
    "    return s\n",
    "\n",
    "print(Normalization(tupla))\n",
    "    \n",
    "        \n",
    "    "
   ]
  },
  {
   "cell_type": "code",
   "execution_count": null,
   "metadata": {},
   "outputs": [],
   "source": []
  }
 ],
 "metadata": {
  "kernelspec": {
   "display_name": "Python 3",
   "language": "python",
   "name": "python3"
  },
  "language_info": {
   "codemirror_mode": {
    "name": "ipython",
    "version": 3
   },
   "file_extension": ".py",
   "mimetype": "text/x-python",
   "name": "python",
   "nbconvert_exporter": "python",
   "pygments_lexer": "ipython3",
   "version": "3.8.8"
  }
 },
 "nbformat": 4,
 "nbformat_minor": 2
}
